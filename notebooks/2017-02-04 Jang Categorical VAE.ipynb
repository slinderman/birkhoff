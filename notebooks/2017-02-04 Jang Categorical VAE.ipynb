{
 "cells": [
  {
   "cell_type": "markdown",
   "metadata": {},
   "source": [
    "# Categorical VAE with Gumbel-Softmax\n",
    "\n",
    "Partial implementation of the paper [Categorical Reparameterization with Gumbel-Softmax](https://arxiv.org/abs/1611.01144) "
   ]
  },
  {
   "cell_type": "markdown",
   "metadata": {},
   "source": [
    "A categorical VAE with discrete latent variables. Tensorflow version is 0.10.0."
   ]
  },
  {
   "cell_type": "markdown",
   "metadata": {},
   "source": [
    "# 1. Imports and Helper Functions"
   ]
  },
  {
   "cell_type": "code",
   "execution_count": 1,
   "metadata": {
    "collapsed": false
   },
   "outputs": [],
   "source": [
    "import tensorflow as tf\n",
    "from tensorflow.examples.tutorials.mnist import input_data\n",
    "import matplotlib.pyplot as plt\n",
    "import numpy as np\n",
    "%matplotlib inline\n",
    "slim=tf.contrib.slim\n",
    "Bernoulli = tf.contrib.distributions.Bernoulli"
   ]
  },
  {
   "cell_type": "code",
   "execution_count": 2,
   "metadata": {
    "collapsed": true
   },
   "outputs": [],
   "source": [
    "def sample_gumbel(shape, eps=1e-20): \n",
    "  \"\"\"Sample from Gumbel(0, 1)\"\"\"\n",
    "  U = tf.random_uniform(shape,minval=0,maxval=1)\n",
    "  return -tf.log(-tf.log(U + eps) + eps)\n",
    "\n",
    "def gumbel_softmax_sample(logits, temperature): \n",
    "  \"\"\" Draw a sample from the Gumbel-Softmax distribution\"\"\"\n",
    "  y = logits + sample_gumbel(tf.shape(logits))\n",
    "  return tf.nn.softmax( y / temperature)\n",
    "\n",
    "def gumbel_softmax(logits, temperature, hard=False):\n",
    "  \"\"\"Sample from the Gumbel-Softmax distribution and optionally discretize.\n",
    "  Args:\n",
    "    logits: [batch_size, n_class] unnormalized log-probs\n",
    "    temperature: non-negative scalar\n",
    "    hard: if True, take argmax, but differentiate w.r.t. soft sample y\n",
    "  Returns:\n",
    "    [batch_size, n_class] sample from the Gumbel-Softmax distribution.\n",
    "    If hard=True, then the returned sample will be one-hot, otherwise it will\n",
    "    be a probabilitiy distribution that sums to 1 across classes\n",
    "  \"\"\"\n",
    "  y = gumbel_softmax_sample(logits, temperature)\n",
    "  if hard:\n",
    "    k = tf.shape(logits)[-1]\n",
    "    #y_hard = tf.cast(tf.one_hot(tf.argmax(y,1),k), y.dtype)\n",
    "    y_hard = tf.cast(tf.equal(y,tf.reduce_max(y,1,keep_dims=True)),y.dtype)\n",
    "    y = tf.stop_gradient(y_hard - y) + y\n",
    "  return y"
   ]
  },
  {
   "cell_type": "markdown",
   "metadata": {},
   "source": [
    "# 2. Build Model"
   ]
  },
  {
   "cell_type": "code",
   "execution_count": 3,
   "metadata": {
    "collapsed": true
   },
   "outputs": [],
   "source": [
    "K=10 # number of classes\n",
    "N=30 # number of categorical distributions"
   ]
  },
  {
   "cell_type": "code",
   "execution_count": 4,
   "metadata": {
    "collapsed": false
   },
   "outputs": [],
   "source": [
    "# input image x (shape=(batch_size,784))\n",
    "x = tf.placeholder(tf.float32,[None,784])\n",
    "# variational posterior q(y|x), i.e. the encoder (shape=(batch_size,200))\n",
    "net = slim.stack(x,slim.fully_connected,[512,256])\n",
    "# unnormalized logits for N separate K-categorical distributions (shape=(batch_size*N,K))\n",
    "logits_y = tf.reshape(slim.fully_connected(net,K*N,activation_fn=None),[-1,K])\n",
    "q_y = tf.nn.softmax(logits_y)\n",
    "log_q_y = tf.log(q_y+1e-20)\n",
    "# temperature\n",
    "tau = tf.Variable(5.0,name=\"temperature\")\n",
    "# sample and reshape back (shape=(batch_size,N,K))\n",
    "# set hard=True for ST Gumbel-Softmax\n",
    "y = tf.reshape(gumbel_softmax(logits_y,tau,hard=False),[-1,N,K])\n",
    "# generative model p(x|y), i.e. the decoder (shape=(batch_size,200))\n",
    "net = slim.stack(slim.flatten(y),slim.fully_connected,[256,512])\n",
    "logits_x = slim.fully_connected(net,784,activation_fn=None)\n",
    "# (shape=(batch_size,784))\n",
    "p_x = Bernoulli(logits=logits_x)"
   ]
  },
  {
   "cell_type": "code",
   "execution_count": 5,
   "metadata": {
    "collapsed": false
   },
   "outputs": [],
   "source": [
    "# loss and train ops\n",
    "kl_tmp = tf.reshape(q_y*(log_q_y-tf.log(1.0/K)),[-1,N,K])\n",
    "KL = tf.reduce_sum(kl_tmp,[1,2])\n",
    "elbo=tf.reduce_sum(p_x.log_prob(x),1) - KL"
   ]
  },
  {
   "cell_type": "code",
   "execution_count": 6,
   "metadata": {
    "collapsed": false
   },
   "outputs": [
    {
     "name": "stdout",
     "output_type": "stream",
     "text": [
      "WARNING:tensorflow:From <ipython-input-6-db15cc133fe7>:4 in <module>.: initialize_all_variables (from tensorflow.python.ops.variables) is deprecated and will be removed after 2017-03-02.\n",
      "Instructions for updating:\n",
      "Use `tf.global_variables_initializer` instead.\n"
     ]
    }
   ],
   "source": [
    "loss=tf.reduce_mean(-elbo)\n",
    "lr=tf.constant(0.001)\n",
    "train_op=tf.train.AdamOptimizer(learning_rate=lr).minimize(loss,var_list=slim.get_model_variables())\n",
    "init_op=tf.initialize_all_variables()"
   ]
  },
  {
   "cell_type": "markdown",
   "metadata": {
    "collapsed": true
   },
   "source": [
    "# 3. Train"
   ]
  },
  {
   "cell_type": "code",
   "execution_count": 7,
   "metadata": {
    "collapsed": false
   },
   "outputs": [
    {
     "name": "stdout",
     "output_type": "stream",
     "text": [
      "Successfully downloaded train-images-idx3-ubyte.gz 9912422 bytes.\n",
      "Extracting /tmp/train-images-idx3-ubyte.gz\n",
      "Successfully downloaded train-labels-idx1-ubyte.gz 28881 bytes.\n",
      "Extracting /tmp/train-labels-idx1-ubyte.gz\n",
      "Successfully downloaded t10k-images-idx3-ubyte.gz 1648877 bytes.\n",
      "Extracting /tmp/t10k-images-idx3-ubyte.gz\n",
      "Successfully downloaded t10k-labels-idx1-ubyte.gz 4542 bytes.\n",
      "Extracting /tmp/t10k-labels-idx1-ubyte.gz\n"
     ]
    }
   ],
   "source": [
    "# get data\n",
    "data = input_data.read_data_sets('/tmp/', one_hot=True).train "
   ]
  },
  {
   "cell_type": "code",
   "execution_count": 8,
   "metadata": {
    "collapsed": true
   },
   "outputs": [],
   "source": [
    "BATCH_SIZE=100\n",
    "NUM_ITERS=10000\n",
    "tau0=1.0 # initial temperature\n",
    "np_temp=tau0\n",
    "np_lr=0.001\n",
    "ANNEAL_RATE=0.00003\n",
    "MIN_TEMP=0.5"
   ]
  },
  {
   "cell_type": "code",
   "execution_count": 11,
   "metadata": {
    "collapsed": false,
    "scrolled": true
   },
   "outputs": [
    {
     "name": "stdout",
     "output_type": "stream",
     "text": [
      "Step 1, ELBO: -543.649\n",
      "Step 101, ELBO: -215.327\n",
      "Step 201, ELBO: -199.975\n",
      "Step 301, ELBO: -198.613\n",
      "Step 401, ELBO: -192.402\n",
      "Step 501, ELBO: -177.152\n",
      "Step 601, ELBO: -154.853\n",
      "Step 701, ELBO: -155.344\n",
      "Step 801, ELBO: -154.716\n",
      "Step 901, ELBO: -151.101\n",
      "Step 1001, ELBO: -140.296\n",
      "Step 1101, ELBO: -150.225\n",
      "Step 1201, ELBO: -139.374\n",
      "Step 1301, ELBO: -139.718\n",
      "Step 1401, ELBO: -141.591\n",
      "Step 1501, ELBO: -141.673\n",
      "Step 1601, ELBO: -124.101\n",
      "Step 1701, ELBO: -131.007\n",
      "Step 1801, ELBO: -130.542\n",
      "Step 1901, ELBO: -141.150\n",
      "Step 2001, ELBO: -136.210\n",
      "Step 2101, ELBO: -134.686\n",
      "Step 2201, ELBO: -132.755\n",
      "Step 2301, ELBO: -131.846\n",
      "Step 2401, ELBO: -130.479\n",
      "Step 2501, ELBO: -127.680\n",
      "Step 2601, ELBO: -127.511\n",
      "Step 2701, ELBO: -126.504\n",
      "Step 2801, ELBO: -124.333\n",
      "Step 2901, ELBO: -126.041\n",
      "Step 3001, ELBO: -120.686\n",
      "Step 3101, ELBO: -125.311\n",
      "Step 3201, ELBO: -127.523\n",
      "Step 3301, ELBO: -113.164\n",
      "Step 3401, ELBO: -124.372\n",
      "Step 3501, ELBO: -119.654\n",
      "Step 3601, ELBO: -120.494\n",
      "Step 3701, ELBO: -118.834\n",
      "Step 3801, ELBO: -122.358\n",
      "Step 3901, ELBO: -119.240\n",
      "Step 4001, ELBO: -122.105\n",
      "Step 4101, ELBO: -115.688\n",
      "Step 4201, ELBO: -114.647\n",
      "Step 4301, ELBO: -113.906\n",
      "Step 4401, ELBO: -118.731\n",
      "Step 4501, ELBO: -120.562\n",
      "Step 4601, ELBO: -117.339\n",
      "Step 4701, ELBO: -118.085\n",
      "Step 4801, ELBO: -113.026\n",
      "Step 4901, ELBO: -118.563\n",
      "Step 5001, ELBO: -113.558\n",
      "Step 5101, ELBO: -115.288\n",
      "Step 5201, ELBO: -112.217\n",
      "Step 5301, ELBO: -108.827\n",
      "Step 5401, ELBO: -116.280\n",
      "Step 5501, ELBO: -115.747\n",
      "Step 5601, ELBO: -114.207\n",
      "Step 5701, ELBO: -117.470\n",
      "Step 5801, ELBO: -119.431\n",
      "Step 5901, ELBO: -111.104\n",
      "Step 6001, ELBO: -118.343\n",
      "Step 6101, ELBO: -114.053\n",
      "Step 6201, ELBO: -116.650\n",
      "Step 6301, ELBO: -113.532\n",
      "Step 6401, ELBO: -113.454\n",
      "Step 6501, ELBO: -114.041\n",
      "Step 6601, ELBO: -112.942\n",
      "Step 6701, ELBO: -107.594\n",
      "Step 6801, ELBO: -113.242\n",
      "Step 6901, ELBO: -115.122\n",
      "Step 7001, ELBO: -113.876\n",
      "Step 7101, ELBO: -112.372\n",
      "Step 7201, ELBO: -112.984\n",
      "Step 7301, ELBO: -112.402\n",
      "Step 7401, ELBO: -114.682\n",
      "Step 7501, ELBO: -113.853\n",
      "Step 7601, ELBO: -116.038\n",
      "Step 7701, ELBO: -112.088\n",
      "Step 7801, ELBO: -116.277\n",
      "Step 7901, ELBO: -107.951\n",
      "Step 8001, ELBO: -111.255\n",
      "Step 8101, ELBO: -115.519\n",
      "Step 8201, ELBO: -110.408\n",
      "Step 8301, ELBO: -117.886\n",
      "Step 8401, ELBO: -114.066\n",
      "Step 8501, ELBO: -109.402\n",
      "Step 8601, ELBO: -113.800\n",
      "Step 8701, ELBO: -111.323\n",
      "Step 8801, ELBO: -107.460\n",
      "Step 8901, ELBO: -109.485\n",
      "Step 9001, ELBO: -113.991\n",
      "Step 9101, ELBO: -114.677\n",
      "Step 9201, ELBO: -109.116\n",
      "Step 9301, ELBO: -114.590\n",
      "Step 9401, ELBO: -113.615\n",
      "Step 9501, ELBO: -112.566\n",
      "Step 9601, ELBO: -110.023\n",
      "Step 9701, ELBO: -109.508\n",
      "Step 9801, ELBO: -108.631\n",
      "Step 9901, ELBO: -117.622\n",
      "Step 10001, ELBO: -114.942\n",
      "Step 10101, ELBO: -111.454\n",
      "Step 10201, ELBO: -111.446\n",
      "Step 10301, ELBO: -112.881\n",
      "Step 10401, ELBO: -111.710\n",
      "Step 10501, ELBO: -108.655\n",
      "Step 10601, ELBO: -113.700\n",
      "Step 10701, ELBO: -105.240\n",
      "Step 10801, ELBO: -107.905\n",
      "Step 10901, ELBO: -115.995\n",
      "Step 11001, ELBO: -107.738\n",
      "Step 11101, ELBO: -112.573\n",
      "Step 11201, ELBO: -110.125\n",
      "Step 11301, ELBO: -110.101\n",
      "Step 11401, ELBO: -108.702\n",
      "Step 11501, ELBO: -109.405\n",
      "Step 11601, ELBO: -111.586\n",
      "Step 11701, ELBO: -108.376\n",
      "Step 11801, ELBO: -111.424\n",
      "Step 11901, ELBO: -113.131\n",
      "Step 12001, ELBO: -106.057\n",
      "Step 12101, ELBO: -109.750\n",
      "Step 12201, ELBO: -117.003\n",
      "Step 12301, ELBO: -110.473\n",
      "Step 12401, ELBO: -110.121\n",
      "Step 12501, ELBO: -109.641\n",
      "Step 12601, ELBO: -108.750\n",
      "Step 12701, ELBO: -113.490\n",
      "Step 12801, ELBO: -111.838\n",
      "Step 12901, ELBO: -110.027\n",
      "Step 13001, ELBO: -110.960\n",
      "Step 13101, ELBO: -110.398\n",
      "Step 13201, ELBO: -106.032\n",
      "Step 13301, ELBO: -112.257\n",
      "Step 13401, ELBO: -108.186\n",
      "Step 13501, ELBO: -111.674\n",
      "Step 13601, ELBO: -105.717\n",
      "Step 13701, ELBO: -111.678\n",
      "Step 13801, ELBO: -111.746\n",
      "Step 13901, ELBO: -109.746\n",
      "Step 14001, ELBO: -105.606\n",
      "Step 14101, ELBO: -108.890\n",
      "Step 14201, ELBO: -113.328\n",
      "Step 14301, ELBO: -110.478\n",
      "Step 14401, ELBO: -110.708\n",
      "Step 14501, ELBO: -106.620\n",
      "Step 14601, ELBO: -109.932\n",
      "Step 14701, ELBO: -103.868\n",
      "Step 14801, ELBO: -108.419\n",
      "Step 14901, ELBO: -108.191\n",
      "Step 15001, ELBO: -106.204\n",
      "Step 15101, ELBO: -109.156\n",
      "Step 15201, ELBO: -110.492\n",
      "Step 15301, ELBO: -110.764\n",
      "Step 15401, ELBO: -111.009\n",
      "Step 15501, ELBO: -110.334\n",
      "Step 15601, ELBO: -108.387\n",
      "Step 15701, ELBO: -106.716\n",
      "Step 15801, ELBO: -109.971\n",
      "Step 15901, ELBO: -111.763\n",
      "Step 16001, ELBO: -105.379\n",
      "Step 16101, ELBO: -107.151\n",
      "Step 16201, ELBO: -113.225\n",
      "Step 16301, ELBO: -110.365\n",
      "Step 16401, ELBO: -105.251\n",
      "Step 16501, ELBO: -108.308\n",
      "Step 16601, ELBO: -108.979\n",
      "Step 16701, ELBO: -113.700\n",
      "Step 16801, ELBO: -110.077\n",
      "Step 16901, ELBO: -110.367\n",
      "Step 17001, ELBO: -111.109\n",
      "Step 17101, ELBO: -106.610\n",
      "Step 17201, ELBO: -116.399\n",
      "Step 17301, ELBO: -107.872\n",
      "Step 17401, ELBO: -112.003\n",
      "Step 17501, ELBO: -111.284\n",
      "Step 17601, ELBO: -110.376\n",
      "Step 17701, ELBO: -109.502\n",
      "Step 17801, ELBO: -112.801\n",
      "Step 17901, ELBO: -112.586\n",
      "Step 18001, ELBO: -107.867\n",
      "Step 18101, ELBO: -110.420\n",
      "Step 18201, ELBO: -108.476\n",
      "Step 18301, ELBO: -107.365\n",
      "Step 18401, ELBO: -109.327\n",
      "Step 18501, ELBO: -112.609\n",
      "Step 18601, ELBO: -105.796\n",
      "Step 18701, ELBO: -107.266\n",
      "Step 18801, ELBO: -109.290\n",
      "Step 18901, ELBO: -108.300\n",
      "Step 19001, ELBO: -108.326\n",
      "Step 19101, ELBO: -102.536\n",
      "Step 19201, ELBO: -113.962\n",
      "Step 19301, ELBO: -108.143\n",
      "Step 19401, ELBO: -109.731\n",
      "Step 19501, ELBO: -110.036\n",
      "Step 19601, ELBO: -114.062\n",
      "Step 19701, ELBO: -108.207\n",
      "Step 19801, ELBO: -101.286\n",
      "Step 19901, ELBO: -109.460\n",
      "Step 20001, ELBO: -112.188\n",
      "Step 20101, ELBO: -107.623\n",
      "Step 20201, ELBO: -109.829\n",
      "Step 20301, ELBO: -105.879\n",
      "Step 20401, ELBO: -110.152\n",
      "Step 20501, ELBO: -107.873\n",
      "Step 20601, ELBO: -107.381\n",
      "Step 20701, ELBO: -111.060\n",
      "Step 20801, ELBO: -108.671\n",
      "Step 20901, ELBO: -109.766\n",
      "Step 21001, ELBO: -110.886\n",
      "Step 21101, ELBO: -110.278\n",
      "Step 21201, ELBO: -105.175\n",
      "Step 21301, ELBO: -111.101\n",
      "Step 21401, ELBO: -108.105\n",
      "Step 21501, ELBO: -113.126\n",
      "Step 21601, ELBO: -110.664\n",
      "Step 21701, ELBO: -114.483\n",
      "Step 21801, ELBO: -107.082\n",
      "Step 21901, ELBO: -109.792\n",
      "Step 22001, ELBO: -110.685\n",
      "Step 22101, ELBO: -106.455\n",
      "Step 22201, ELBO: -107.325\n",
      "Step 22301, ELBO: -108.123\n",
      "Step 22401, ELBO: -108.856\n",
      "Step 22501, ELBO: -108.470\n",
      "Step 22601, ELBO: -108.539\n",
      "Step 22701, ELBO: -109.466\n",
      "Step 22801, ELBO: -106.192\n",
      "Step 22901, ELBO: -104.553\n",
      "Step 23001, ELBO: -112.184\n",
      "Step 23101, ELBO: -104.831\n",
      "Step 23201, ELBO: -108.877\n",
      "Step 23301, ELBO: -111.698\n",
      "Step 23401, ELBO: -111.519\n",
      "Step 23501, ELBO: -108.812\n",
      "Step 23601, ELBO: -111.557\n",
      "Step 23701, ELBO: -110.606\n",
      "Step 23801, ELBO: -117.568\n",
      "Step 23901, ELBO: -112.604\n",
      "Step 24001, ELBO: -108.891\n",
      "Step 24101, ELBO: -109.632\n",
      "Step 24201, ELBO: -110.989\n",
      "Step 24301, ELBO: -105.867\n",
      "Step 24401, ELBO: -104.377\n",
      "Step 24501, ELBO: -109.462\n",
      "Step 24601, ELBO: -111.475\n",
      "Step 24701, ELBO: -114.277\n",
      "Step 24801, ELBO: -104.585\n",
      "Step 24901, ELBO: -105.869\n",
      "Step 25001, ELBO: -109.074\n",
      "Step 25101, ELBO: -112.462\n",
      "Step 25201, ELBO: -109.899\n",
      "Step 25301, ELBO: -107.917\n",
      "Step 25401, ELBO: -109.266\n",
      "Step 25501, ELBO: -110.727\n",
      "Step 25601, ELBO: -113.038\n",
      "Step 25701, ELBO: -104.306\n",
      "Step 25801, ELBO: -110.325\n",
      "Step 25901, ELBO: -106.737\n",
      "Step 26001, ELBO: -111.166\n",
      "Step 26101, ELBO: -108.310\n",
      "Step 26201, ELBO: -113.130\n",
      "Step 26301, ELBO: -108.276\n",
      "Step 26401, ELBO: -105.872\n",
      "Step 26501, ELBO: -113.127\n",
      "Step 26601, ELBO: -112.943\n",
      "Step 26701, ELBO: -101.133\n",
      "Step 26801, ELBO: -108.520\n",
      "Step 26901, ELBO: -115.603\n",
      "Step 27001, ELBO: -109.549\n",
      "Step 27101, ELBO: -114.640\n",
      "Step 27201, ELBO: -110.154\n",
      "Step 27301, ELBO: -112.286\n",
      "Step 27401, ELBO: -106.394\n",
      "Step 27501, ELBO: -110.235\n",
      "Step 27601, ELBO: -111.490\n",
      "Step 27701, ELBO: -107.725\n",
      "Step 27801, ELBO: -108.243\n",
      "Step 27901, ELBO: -109.610\n",
      "Step 28001, ELBO: -111.362\n",
      "Step 28101, ELBO: -108.880\n",
      "Step 28201, ELBO: -106.778\n",
      "Step 28301, ELBO: -106.996\n",
      "Step 28401, ELBO: -109.789\n",
      "Step 28501, ELBO: -108.066\n",
      "Step 28601, ELBO: -105.488\n",
      "Step 28701, ELBO: -108.350\n",
      "Step 28801, ELBO: -107.280\n",
      "Step 28901, ELBO: -106.259\n",
      "Step 29001, ELBO: -109.697\n",
      "Step 29101, ELBO: -107.520\n",
      "Step 29201, ELBO: -110.971\n",
      "Step 29301, ELBO: -114.321\n",
      "Step 29401, ELBO: -112.845\n",
      "Step 29501, ELBO: -111.118\n",
      "Step 29601, ELBO: -110.385\n",
      "Step 29701, ELBO: -111.190\n",
      "Step 29801, ELBO: -114.466\n",
      "Step 29901, ELBO: -107.339\n",
      "Step 30001, ELBO: -112.190\n",
      "Step 30101, ELBO: -104.041\n",
      "Step 30201, ELBO: -106.609\n",
      "Step 30301, ELBO: -109.708\n",
      "Step 30401, ELBO: -106.604\n",
      "Step 30501, ELBO: -99.498\n",
      "Step 30601, ELBO: -113.771\n",
      "Step 30701, ELBO: -109.621\n",
      "Step 30801, ELBO: -104.413\n",
      "Step 30901, ELBO: -114.182\n",
      "Step 31001, ELBO: -110.971\n",
      "Step 31101, ELBO: -107.107\n",
      "Step 31201, ELBO: -113.243\n",
      "Step 31301, ELBO: -111.887\n",
      "Step 31401, ELBO: -106.764\n",
      "Step 31501, ELBO: -108.231\n",
      "Step 31601, ELBO: -107.619\n",
      "Step 31701, ELBO: -109.299\n",
      "Step 31801, ELBO: -109.078\n",
      "Step 31901, ELBO: -100.739\n",
      "Step 32001, ELBO: -109.710\n",
      "Step 32101, ELBO: -111.893\n",
      "Step 32201, ELBO: -108.926\n",
      "Step 32301, ELBO: -102.496\n",
      "Step 32401, ELBO: -103.851\n",
      "Step 32501, ELBO: -108.520\n",
      "Step 32601, ELBO: -106.888\n",
      "Step 32701, ELBO: -112.839\n",
      "Step 32801, ELBO: -107.614\n",
      "Step 32901, ELBO: -110.016\n",
      "Step 33001, ELBO: -102.397\n",
      "Step 33101, ELBO: -106.917\n",
      "Step 33201, ELBO: -113.869\n",
      "Step 33301, ELBO: -104.127\n",
      "Step 33401, ELBO: -108.711\n",
      "Step 33501, ELBO: -107.133\n",
      "Step 33601, ELBO: -109.313\n",
      "Step 33701, ELBO: -108.416\n",
      "Step 33801, ELBO: -113.395\n",
      "Step 33901, ELBO: -106.947\n",
      "Step 34001, ELBO: -109.735\n",
      "Step 34101, ELBO: -107.678\n",
      "Step 34201, ELBO: -107.612\n",
      "Step 34301, ELBO: -105.961\n",
      "Step 34401, ELBO: -109.320\n",
      "Step 34501, ELBO: -109.330\n",
      "Step 34601, ELBO: -110.639\n",
      "Step 34701, ELBO: -109.911\n",
      "Step 34801, ELBO: -106.869\n",
      "Step 34901, ELBO: -107.201\n",
      "Step 35001, ELBO: -107.338\n",
      "Step 35101, ELBO: -105.097\n",
      "Step 35201, ELBO: -107.195\n",
      "Step 35301, ELBO: -103.983\n",
      "Step 35401, ELBO: -104.574\n",
      "Step 35501, ELBO: -107.675\n",
      "Step 35601, ELBO: -113.465\n",
      "Step 35701, ELBO: -107.323\n",
      "Step 35801, ELBO: -109.538\n",
      "Step 35901, ELBO: -108.431\n",
      "Step 36001, ELBO: -116.506\n",
      "Step 36101, ELBO: -105.681\n",
      "Step 36201, ELBO: -109.528\n",
      "Step 36301, ELBO: -108.080\n",
      "Step 36401, ELBO: -107.355\n",
      "Step 36501, ELBO: -108.946\n",
      "Step 36601, ELBO: -110.457\n",
      "Step 36701, ELBO: -110.713\n",
      "Step 36801, ELBO: -107.151\n",
      "Step 36901, ELBO: -106.843\n",
      "Step 37001, ELBO: -112.287\n",
      "Step 37101, ELBO: -108.106\n",
      "Step 37201, ELBO: -107.024\n",
      "Step 37301, ELBO: -111.564\n",
      "Step 37401, ELBO: -105.570\n",
      "Step 37501, ELBO: -109.980\n",
      "Step 37601, ELBO: -107.403\n",
      "Step 37701, ELBO: -106.568\n",
      "Step 37801, ELBO: -113.757\n",
      "Step 37901, ELBO: -105.447\n",
      "Step 38001, ELBO: -107.118\n",
      "Step 38101, ELBO: -110.080\n",
      "Step 38201, ELBO: -104.986\n",
      "Step 38301, ELBO: -110.502\n",
      "Step 38401, ELBO: -110.265\n",
      "Step 38501, ELBO: -105.915\n",
      "Step 38601, ELBO: -107.005\n",
      "Step 38701, ELBO: -103.523\n",
      "Step 38801, ELBO: -109.630\n",
      "Step 38901, ELBO: -107.084\n",
      "Step 39001, ELBO: -108.068\n",
      "Step 39101, ELBO: -103.887\n",
      "Step 39201, ELBO: -107.295\n",
      "Step 39301, ELBO: -107.200\n",
      "Step 39401, ELBO: -104.434\n",
      "Step 39501, ELBO: -108.018\n",
      "Step 39601, ELBO: -111.006\n",
      "Step 39701, ELBO: -106.515\n",
      "Step 39801, ELBO: -107.209\n",
      "Step 39901, ELBO: -104.238\n",
      "Step 40001, ELBO: -113.637\n",
      "Step 40101, ELBO: -105.927\n",
      "Step 40201, ELBO: -115.453\n",
      "Step 40301, ELBO: -107.461\n",
      "Step 40401, ELBO: -114.454\n",
      "Step 40501, ELBO: -110.062\n",
      "Step 40601, ELBO: -105.927\n",
      "Step 40701, ELBO: -107.937\n",
      "Step 40801, ELBO: -107.887\n",
      "Step 40901, ELBO: -109.829\n",
      "Step 41001, ELBO: -107.717\n",
      "Step 41101, ELBO: -103.495\n",
      "Step 41201, ELBO: -107.309\n",
      "Step 41301, ELBO: -109.430\n",
      "Step 41401, ELBO: -103.793\n",
      "Step 41501, ELBO: -108.105\n",
      "Step 41601, ELBO: -109.424\n",
      "Step 41701, ELBO: -113.153\n",
      "Step 41801, ELBO: -108.470\n",
      "Step 41901, ELBO: -102.921\n",
      "Step 42001, ELBO: -106.914\n",
      "Step 42101, ELBO: -107.678\n",
      "Step 42201, ELBO: -105.002\n",
      "Step 42301, ELBO: -109.051\n",
      "Step 42401, ELBO: -108.221\n",
      "Step 42501, ELBO: -113.873\n",
      "Step 42601, ELBO: -112.030\n",
      "Step 42701, ELBO: -108.682\n",
      "Step 42801, ELBO: -106.828\n",
      "Step 42901, ELBO: -102.568\n",
      "Step 43001, ELBO: -108.592\n",
      "Step 43101, ELBO: -107.686\n",
      "Step 43201, ELBO: -107.879\n",
      "Step 43301, ELBO: -107.008\n",
      "Step 43401, ELBO: -108.209\n",
      "Step 43501, ELBO: -108.651\n",
      "Step 43601, ELBO: -100.176\n",
      "Step 43701, ELBO: -107.140\n",
      "Step 43801, ELBO: -103.620\n",
      "Step 43901, ELBO: -110.615\n",
      "Step 44001, ELBO: -110.033\n",
      "Step 44101, ELBO: -107.801\n",
      "Step 44201, ELBO: -107.119\n",
      "Step 44301, ELBO: -105.492\n",
      "Step 44401, ELBO: -103.118\n",
      "Step 44501, ELBO: -110.332\n",
      "Step 44601, ELBO: -110.032\n",
      "Step 44701, ELBO: -103.126\n",
      "Step 44801, ELBO: -103.228\n",
      "Step 44901, ELBO: -106.394\n",
      "Step 45001, ELBO: -106.359\n",
      "Step 45101, ELBO: -111.384\n",
      "Step 45201, ELBO: -101.826\n",
      "Step 45301, ELBO: -111.283\n",
      "Step 45401, ELBO: -107.249\n",
      "Step 45501, ELBO: -106.530\n",
      "Step 45601, ELBO: -104.420\n",
      "Step 45701, ELBO: -105.741\n",
      "Step 45801, ELBO: -109.309\n",
      "Step 45901, ELBO: -106.749\n",
      "Step 46001, ELBO: -108.503\n",
      "Step 46101, ELBO: -106.986\n",
      "Step 46201, ELBO: -106.999\n",
      "Step 46301, ELBO: -110.357\n",
      "Step 46401, ELBO: -109.504\n",
      "Step 46501, ELBO: -107.326\n",
      "Step 46601, ELBO: -105.757\n",
      "Step 46701, ELBO: -107.591\n",
      "Step 46801, ELBO: -105.552\n",
      "Step 46901, ELBO: -105.355\n",
      "Step 47001, ELBO: -109.019\n",
      "Step 47101, ELBO: -107.574\n",
      "Step 47201, ELBO: -111.691\n",
      "Step 47301, ELBO: -110.279\n",
      "Step 47401, ELBO: -111.505\n",
      "Step 47501, ELBO: -112.387\n",
      "Step 47601, ELBO: -111.007\n",
      "Step 47701, ELBO: -103.302\n",
      "Step 47801, ELBO: -103.429\n",
      "Step 47901, ELBO: -110.478\n",
      "Step 48001, ELBO: -109.025\n",
      "Step 48101, ELBO: -107.034\n",
      "Step 48201, ELBO: -113.112\n",
      "Step 48301, ELBO: -104.590\n",
      "Step 48401, ELBO: -110.402\n",
      "Step 48501, ELBO: -108.505\n",
      "Step 48601, ELBO: -109.792\n",
      "Step 48701, ELBO: -106.006\n",
      "Step 48801, ELBO: -114.208\n",
      "Step 48901, ELBO: -108.588\n",
      "Step 49001, ELBO: -105.671\n",
      "Step 49101, ELBO: -114.420\n",
      "Step 49201, ELBO: -109.317\n",
      "Step 49301, ELBO: -106.316\n",
      "Step 49401, ELBO: -109.174\n",
      "Step 49501, ELBO: -110.467\n",
      "Step 49601, ELBO: -110.802\n",
      "Step 49701, ELBO: -109.854\n",
      "Step 49801, ELBO: -104.339\n",
      "Step 49901, ELBO: -109.023\n"
     ]
    }
   ],
   "source": [
    "dat=[]\n",
    "sess=tf.InteractiveSession()\n",
    "sess.run(init_op)\n",
    "for i in range(1,NUM_ITERS):\n",
    "  np_x,np_y=data.next_batch(BATCH_SIZE)\n",
    "  _,np_loss=sess.run([train_op,loss],{\n",
    "      x:np_x,\n",
    "      tau:np_temp,\n",
    "      lr:np_lr\n",
    "    })\n",
    "  if i % 100 == 1:\n",
    "    dat.append([i,np_temp,np_loss])\n",
    "  if i % 1000 == 1:\n",
    "    np_temp=np.maximum(tau0*np.exp(-ANNEAL_RATE*i),MIN_TEMP)\n",
    "    np_lr*=0.9\n",
    "  if i % 100 == 1:\n",
    "    print('Step %d, ELBO: %0.3f' % (i,-np_loss))"
   ]
  },
  {
   "cell_type": "markdown",
   "metadata": {},
   "source": [
    "## save to animation"
   ]
  },
  {
   "cell_type": "code",
   "execution_count": 12,
   "metadata": {
    "collapsed": false
   },
   "outputs": [],
   "source": [
    "np_x1,_=data.next_batch(100)\n",
    "np_x2,np_y1 = sess.run([p_x.mean(),y],{x:np_x1})"
   ]
  },
  {
   "cell_type": "code",
   "execution_count": 13,
   "metadata": {
    "collapsed": true
   },
   "outputs": [],
   "source": [
    "import matplotlib.animation as animation"
   ]
  },
  {
   "cell_type": "code",
   "execution_count": 14,
   "metadata": {
    "collapsed": false
   },
   "outputs": [],
   "source": [
    "def save_anim(data,figsize,filename):\n",
    "  fig=plt.figure(figsize=(figsize[1]/10.0,figsize[0]/10.0))\n",
    "  im = plt.imshow(data[0].reshape(figsize),cmap=plt.cm.gray,interpolation='none')\n",
    "  plt.gca().set_axis_off()\n",
    "  #fig.tight_layout()\n",
    "  fig.subplots_adjust(left=0, bottom=0, right=1, top=1, wspace=None, hspace=None)\n",
    "  def updatefig(t):\n",
    "    im.set_array(data[t].reshape(figsize))\n",
    "    return im,\n",
    "  anim=animation.FuncAnimation(fig, updatefig, frames=100, interval=50, blit=True, repeat=True)\n",
    "  Writer = animation.writers['imagemagick']\n",
    "  writer = Writer(fps=1, metadata=dict(artist='Me'), bitrate=1800)\n",
    "  anim.save(filename, writer=writer)\n",
    "  return"
   ]
  },
  {
   "cell_type": "code",
   "execution_count": 15,
   "metadata": {
    "collapsed": false
   },
   "outputs": [],
   "source": [
    "# save_anim(np_x1,(28,28),'x0.gif')\n",
    "# save_anim(np_y1,(N,K),'y.gif')\n",
    "# save_anim(np_x2,(28,28),'x1.gif')"
   ]
  },
  {
   "cell_type": "markdown",
   "metadata": {},
   "source": [
    "# 4. Plot Training Curves"
   ]
  },
  {
   "cell_type": "code",
   "execution_count": 16,
   "metadata": {
    "collapsed": true
   },
   "outputs": [],
   "source": [
    "dat=np.array(dat).T"
   ]
  },
  {
   "cell_type": "code",
   "execution_count": 17,
   "metadata": {
    "collapsed": false
   },
   "outputs": [
    {
     "data": {
      "text/plain": [
       "<matplotlib.text.Text at 0x129472898>"
      ]
     },
     "execution_count": 17,
     "metadata": {},
     "output_type": "execute_result"
    },
    {
     "data": {
      "image/png": "[encoded data removed]",
      "text/plain": [
       "<matplotlib.figure.Figure at 0x11f9bc1d0>"
      ]
     },
     "metadata": {},
     "output_type": "display_data"
    }
   ],
   "source": [
    "f,axarr=plt.subplots(1,2)\n",
    "axarr[0].plot(dat[0],dat[1])\n",
    "axarr[0].set_ylabel('Temperature')\n",
    "axarr[1].plot(dat[0],dat[2])\n",
    "axarr[1].set_ylabel('-ELBO')"
   ]
  },
  {
   "cell_type": "markdown",
   "metadata": {},
   "source": [
    "# 5. Unconditional Generation\n",
    "\n",
    "This consists of sampling from the prior $p_\\theta(y)$ and passing it through the generative model."
   ]
  },
  {
   "cell_type": "code",
   "execution_count": 18,
   "metadata": {
    "collapsed": false
   },
   "outputs": [],
   "source": [
    "M=100*N\n",
    "np_y = np.zeros((M,K))\n",
    "np_y[range(M),np.random.choice(K,M)] = 1\n",
    "np_y = np.reshape(np_y,[100,N,K])"
   ]
  },
  {
   "cell_type": "code",
   "execution_count": 19,
   "metadata": {
    "collapsed": false
   },
   "outputs": [],
   "source": [
    "x_p=p_x.mean()\n",
    "np_x= sess.run(x_p,{y:np_y})"
   ]
  },
  {
   "cell_type": "code",
   "execution_count": 20,
   "metadata": {
    "collapsed": false
   },
   "outputs": [],
   "source": [
    "np_y = np_y.reshape((10,10,N,K))\n",
    "np_y = np.concatenate(np.split(np_y,10,axis=0),axis=3)\n",
    "np_y = np.concatenate(np.split(np_y,10,axis=1),axis=2)\n",
    "y_img = np.squeeze(np_y)"
   ]
  },
  {
   "cell_type": "code",
   "execution_count": 21,
   "metadata": {
    "collapsed": false
   },
   "outputs": [],
   "source": [
    "np_x = np_x.reshape((10,10,28,28))\n",
    "# split into 10 (1,10,28,28) images, concat along columns -> 1,10,28,280\n",
    "np_x = np.concatenate(np.split(np_x,10,axis=0),axis=3)\n",
    "# split into 10 (1,1,28,280) images, concat along rows -> 1,1,280,280\n",
    "np_x = np.concatenate(np.split(np_x,10,axis=1),axis=2)\n",
    "x_img = np.squeeze(np_x)"
   ]
  },
  {
   "cell_type": "code",
   "execution_count": 22,
   "metadata": {
    "collapsed": false
   },
   "outputs": [
    {
     "data": {
      "text/plain": [
       "<matplotlib.text.Text at 0x124debb70>"
      ]
     },
     "execution_count": 22,
     "metadata": {},
     "output_type": "execute_result"
    },
    {
     "data": {
      "image/png": "[encoded data removed]",
      "text/plain": [
       "<matplotlib.figure.Figure at 0x12945a9e8>"
      ]
     },
     "metadata": {},
     "output_type": "display_data"
    }
   ],
   "source": [
    "f,axarr=plt.subplots(1,2,figsize=(15,15))\n",
    "# samples\n",
    "axarr[0].matshow(y_img,cmap=plt.cm.gray)\n",
    "axarr[0].set_title('Z Samples')\n",
    "# reconstruction\n",
    "axarr[1].imshow(x_img,cmap=plt.cm.gray,interpolation='none')\n",
    "axarr[1].set_title('Generated Images')"
   ]
  },
  {
   "cell_type": "code",
   "execution_count": 31,
   "metadata": {
    "collapsed": false
   },
   "outputs": [],
   "source": [
    "f.tight_layout()\n",
    "f.savefig('/Users/ericjang/Desktop/gumbel_softmax/code.png')"
   ]
  }
 ],
 "metadata": {
  "anaconda-cloud": {},
  "kernelspec": {
   "display_name": "Python [Root]",
   "language": "python",
   "name": "Python [Root]"
  },
  "language_info": {
   "codemirror_mode": {
    "name": "ipython",
    "version": 3
   },
   "file_extension": ".py",
   "mimetype": "text/x-python",
   "name": "python",
   "nbconvert_exporter": "python",
   "pygments_lexer": "ipython3",
   "version": "3.5.2"
  }
 },
 "nbformat": 4,
 "nbformat_minor": 1
}
