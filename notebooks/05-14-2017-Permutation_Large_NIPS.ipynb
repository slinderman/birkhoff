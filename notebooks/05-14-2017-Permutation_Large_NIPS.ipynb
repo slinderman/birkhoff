{
 "cells": [
  {
   "cell_type": "code",
   "execution_count": 8,
   "metadata": {
    "collapsed": false
   },
   "outputs": [],
   "source": [
    "import os, sys\n",
    "sys.path.append(os.path.expanduser(os.path.join(\"~\", \"Projects\", \"birkhoff\")))\n",
    "sys.path.append('/Users/Cybele/GIT/birkhoff/birkhoff/')\n",
    "sys.path.append('/Users/Cybele/GIT/birkhoff/src/')\n",
    "sys.path.append('/Users/Cybele/GIT/birkhoff/')\n",
    "\n",
    "import numpy as np\n",
    "from autograd.scipy.misc import logsumexp\n",
    "\n",
    "from copy import deepcopy\n",
    "import matplotlib.pyplot as plt\n",
    "from mpl_toolkits.axes_grid1 import make_axes_locatable\n",
    "%matplotlib inline\n",
    "import timeit\n",
    "\n",
    "from birkhoff.primitives import  gaussian_logp, gaussian_entropy, \\\n",
    "    psi_to_birkhoff, log_det_jacobian, birkhoff_to_psi, \\\n",
    "    birkhoff_to_perm, logistic, logit\n",
    "    \n",
    "import seaborn as sns\n",
    "sns.set_context(\"talk\")\n",
    "sns.set_style(\"white\")\n",
    "\n",
    "color_names = [\"red\",\n",
    "               \"windows blue\",\n",
    "               \"amber\",\n",
    "               \"faded green\",\n",
    "               \"dusty purple\",\n",
    "               \"orange\",\n",
    "               \"clay\",\n",
    "               \"pink\",\n",
    "               \"greyish\",\n",
    "               \"light cyan\",\n",
    "               \"steel blue\",\n",
    "               \"pastel purple\",\n",
    "               \"mint\",\n",
    "               \"salmon\"]\n",
    "colors = sns.xkcd_palette(color_names)\n",
    "sns.set_style(\"white\")\n",
    "sns.set_context(\"paper\")\n",
    "\n",
    "from scipy.optimize import linear_sum_assignment\n",
    "import autograd.scipy as scipy\n",
    "import autograd.numpy as np\n",
    "import autograd.numpy.random as npr\n",
    "from autograd import grad\n",
    "from autograd.optimizers import adam, sgd\n"
   ]
  },
  {
   "cell_type": "code",
   "execution_count": 9,
   "metadata": {
    "collapsed": false
   },
   "outputs": [],
   "source": [
    "# Global parameters\n",
    "#npr.seed(0)\n",
    "K = 100\n",
    "D = 2\n",
    "eta = 0.1\n",
    "# Optimization parameters\n",
    "num_adam_iters = 1\n",
    "num_mcmc_samples = 1\n",
    "\n",
    "# Sample a true permutation (in=col, out=row)\n",
    "# perm_true = npr.permutation(K)\n",
    "perm_true = np.arange(K)[::-1]\n",
    "#perm_true = np.arange(K)\n",
    "P_true = np.zeros((K, K))\n",
    "P_true[np.arange(K), perm_true] = 1\n",
    "\n",
    "# Sample data according to this permutation\n",
    "xs = npr.randn(K, D)\n",
    "xs_perm = P_true.T.dot(xs)\n",
    "ys = xs_perm + eta * npr.randn(K, D)\n",
    "\n",
    "M = np.zeros((K,K))\n",
    "listchar = npr.choice(K, K,replace= False)\n",
    "\n",
    "for m in listchar:\n",
    "    i = np.where(P_true[m,:] ==1)[0]\n",
    "    #M[m, [j for j in range(K) if j not in [i]]] = 1e-8\n",
    "    random = npr.choice(K, 40, replace = False)\n",
    "    M[m, [j for j in random if j not in [i]]] = -100000\n",
    "\n",
    "\n",
    "\n"
   ]
  },
  {
   "cell_type": "code",
   "execution_count": 10,
   "metadata": {
    "collapsed": false
   },
   "outputs": [
    {
     "data": {
      "text/plain": [
       "([], <a list of 0 Text yticklabel objects>)"
      ]
     },
     "execution_count": 10,
     "metadata": {},
     "output_type": "execute_result"
    },
    {
     "data": {
      "image/png": "[encoded data removed]",
      "text/plain": [
       "<matplotlib.figure.Figure at 0x11a721e90>"
      ]
     },
     "metadata": {},
     "output_type": "display_data"
    }
   ],
   "source": [
    "# Plot to and from\n",
    "fig = plt.figure(figsize=(3,3))\n",
    "lim = max(abs(ys).max(), abs(xs).max())\n",
    "for k in range(K):\n",
    "    plt.plot(xs[k, 0], xs[k, 1], 'o',\n",
    "             color=colors[k % len(colors)],  markersize=6,\n",
    "             markeredgecolor='k', markeredgewidth=1)\n",
    "    plt.plot(ys[perm_true[k], 0], ys[perm_true[k], 1], 's',\n",
    "             markersize=6, color=colors[k % len(colors)],\n",
    "             markeredgecolor='k', markeredgewidth=1)\n",
    "\n",
    "# Scale bar\n",
    "plt.plot([lim-2*eta,lim], [-lim,-lim], '-k', lw=3)\n",
    "\n",
    "plt.xlim([-1.25*lim, 1.25*lim])\n",
    "plt.ylim([-1.25*lim, 1.25*lim])\n",
    "plt.xticks([])\n",
    "plt.yticks([])"
   ]
  },
  {
   "cell_type": "code",
   "execution_count": 11,
   "metadata": {
    "collapsed": true
   },
   "outputs": [],
   "source": [
    "# Compute the MAP assignment\n",
    "score = np.zeros((K, K))\n",
    "for i in range(K):\n",
    "    for j in range(K):\n",
    "#         score[i,j] = -0.5 * np.sum((ys[j] - xs[i])**2) / eta**2 \n",
    "        score[i,j] = np.sum(gaussian_logp(ys[j], xs[i], eta))\n",
    "row, col = linear_sum_assignment(-score)\n",
    "P_map = np.zeros((K, K))\n",
    "P_map[row, col] = 1\n"
   ]
  },
  {
   "cell_type": "code",
   "execution_count": 12,
   "metadata": {
    "collapsed": true
   },
   "outputs": [],
   "source": [
    "def bhatta ( hist1,  hist2):\n",
    "    return np.sqrt(1-np.sum(np.sqrt(hist1 * hist2)))\n",
    "    \n",
    "\n",
    "# Set up the log probability objective\n",
    "# Assume a uniform prior on P?\n",
    "# Right now this is just the likelihood...\n",
    "def perm_to_P(perm):\n",
    "        K=len(perm)\n",
    "        P = np.zeros((K,K))\n",
    "        P[range(K),perm] = 1 \n",
    "        return P\n",
    "\n",
    "def round_to_perm(P):\n",
    "    from scipy.optimize import linear_sum_assignment\n",
    "    K = P.shape[0]\n",
    "    \n",
    "    assert P.shape == (K, K)\n",
    "    row, col = linear_sum_assignment(-P)\n",
    "    P = np.zeros((K, K))\n",
    "    P[row, col] = 1.0\n",
    "    return P\n",
    "\n",
    "def n_correct(P1,P2):\n",
    "    return P1.shape[0]- np.sum(np.abs(P1-P2))/2.0\n"
   ]
  },
  {
   "cell_type": "code",
   "execution_count": 13,
   "metadata": {
    "collapsed": true
   },
   "outputs": [],
   "source": [
    "def sinkhorn_logspace(logP, niters=10):\n",
    "    for _ in range(niters):\n",
    "        # Normalize columns and take the log again\n",
    "        logP = logP - logsumexp(logP, axis=0, keepdims=True)\n",
    "        # Normalize rows and take the log again\n",
    "        logP = logP - logsumexp(logP, axis=1, keepdims=True)\n",
    "    return logP\n",
    "\n",
    "\n",
    "def rounding_unpack_params(params, K, M, limit_sigma, limit_temp):\n",
    "    indexes = np.where(M.flatten() == 0)\n",
    "    logit_mu = []\n",
    "    logit_sigma = []\n",
    "   \n",
    "    cont = 0\n",
    "    n_params =len(indexes[0])\n",
    "    \n",
    "    for i in range(K*K):\n",
    "        if i in indexes[0]:\n",
    "            logit_mu.append(params[:n_params][cont])\n",
    "            logit_sigma.append(params[n_params:][cont])\n",
    "            cont+=1\n",
    "        else:\n",
    "            logit_mu.append(0)\n",
    "            logit_sigma.append(1)\n",
    "    #return unpack_params(params,K)\n",
    "    \n",
    "    \n",
    "    temp = limit_temp[0] + (limit_temp[1] - limit_temp[0]) * logistic(params[-1])\n",
    "    logit_mu = params[:n_params]\n",
    "    logit_sigma = params[n_params:-1]\n",
    "    \n",
    "    logit_mu = np.reshape(np.array(logit_mu),(K,K))\n",
    "    logit_sigma = np.reshape(np.array(logit_sigma), (K,K))\n",
    "                             \n",
    "    mu = np.exp(sinkhorn_logspace(logit_mu + M))\n",
    "    sigma = limit_sigma[0] + (limit_sigma[1] - limit_sigma[0]) * logistic(logit_sigma)\n",
    "    \n",
    "    return mu, sigma, temp \n",
    "\n",
    "def rounding_sample_to_pi(sample, temp):\n",
    "    \n",
    "    #start_time = timeit.default_timer()\n",
    "    #s = sample * temp + (1 - temp) * round_to_perm(sample )\n",
    "   \n",
    "    return sample\n",
    "    \n",
    "\n",
    "\n",
    "def rounding_get_samples(params, noise, temp, limits_sigma, M):\n",
    "   \n",
    "    K = noise.shape[1]\n",
    "    mu, sigma = params\n",
    "    sample = mu + noise* sigma\n",
    "    return (sample, np.array([rounding_sample_to_pi(sample[i,:,:], temp) for i in range(sample.shape[0])]))\n",
    "    \n",
    "def rounding_log_density_gaussian(sigma, temp, K):\n",
    "    \n",
    "    log_sigma = np.log(sigma) \n",
    "    entropy = 0.5 * log_sigma.size * (1.0 + np.log(2 * np.pi)) + np.sum(log_sigma)\n",
    "    \n",
    "    return entropy + K *(K) * np.log(temp)\n",
    "\n"
   ]
  },
  {
   "cell_type": "code",
   "execution_count": 14,
   "metadata": {
    "collapsed": true
   },
   "outputs": [],
   "source": [
    "# Build variational objective. The variational dist is \n",
    "# a diagonal Gaussian over the (K-1)**2 parameters\n",
    "\n",
    "\n",
    "# Build variational objective. The variational dist is \n",
    "# a diagonal Gaussian over the (K-1)**2 parameters\n",
    "\n",
    "def log_prob(P, xs, ys, eta):\n",
    "    \n",
    "    return np.sum(gaussian_logp(ys, np.dot(P.T, xs), eta))\n",
    "\n",
    "def log_prior(P, sigma_prior, K ):\n",
    "    \"\"\"Consider a product (coordinate-wise) of mixtures of two gaussians with std sigma_prior and centers at 0 and 1)\"\"\"\n",
    "    mixture_centers = [0 , 1]\n",
    "    differences = np.tile(np.reshape(P, (K , K,1)), (1, 1, 2)) - mixture_centers\n",
    "    n = K * K \n",
    "    \n",
    "    return np.sum(logsumexp(- (differences ** 2 / (2 * sigma_prior )**2), axis = 2)) - n/2 *np.log( 2* np.pi) \\\n",
    "    - n* np.log(2) - n*np.log(sigma_prior)\n",
    "\n",
    "def variational_objective(params, t, M, sigma_prior, limit_sigma, limit_temp, gen_data, num_mcmc_samples):\n",
    "    \n",
    "    K = M.shape[0]\n",
    "    xs, ys, eta = gen_data\n",
    "\n",
    "    \"\"\"Provides a stochastic estimate of the variational lower bound.\"\"\"\n",
    "    noise = npr.randn(num_mcmc_samples, K, K)\n",
    "\n",
    "    mu, sigma, temp = rounding_unpack_params(params,  K, M, limit_sigma, limit_temp)\n",
    "    #print temp\n",
    "    (samples, P_samples) = rounding_get_samples([mu, sigma], noise, temp, limit_sigma, M)\n",
    "    elbo = 0\n",
    "    log_priors = 0\n",
    "    log_probs = 0\n",
    "    for P in P_samples:\n",
    "        log_priors+= log_prior(P, sigma_prior, K) / num_mcmc_samples\n",
    "        log_probs+= log_prob(P, xs, ys, eta) / num_mcmc_samples \n",
    "    elbo = elbo + rounding_log_density_gaussian(sigma, temp, K) + log_priors + log_probs\n",
    "    #return [-elbo, log_priors, log_density_gaussian(sigma, temp, limits_sigma, K), log_probs]\n",
    "    return -elbo\n",
    "\n",
    "\n",
    "def callback(params, t, g, perline=2):\n",
    "\n",
    "    cont_iter.append(t)\n",
    "    num_mcmc_samples = 1\n",
    "    elbos.append(variational_objective(params, t, M, sigma_prior, limit_sigma, limit_temp, (xs,ys, eta), num_mcmc_samples))\n",
    "    params_all.append(params)\n"
   ]
  },
  {
   "cell_type": "code",
   "execution_count": 18,
   "metadata": {
    "collapsed": false
   },
   "outputs": [
    {
     "name": "stdout",
     "output_type": "stream",
     "text": [
      "Variational inference for matching...\n",
      "Initializing with MAP estimate\n"
     ]
    }
   ],
   "source": [
    "print(\"Variational inference for matching...\")\n",
    "print(\"Initializing with MAP estimate\")\n",
    "# Global parameters\n",
    "#npr.seed(0)\n",
    "\n",
    "def temperature(i):\n",
    "    tau0=1\n",
    "    MIN_TEMP = 1\n",
    "    ANNEAL_RATE = 0.1\n",
    "    np_temp=np.maximum(tau0*np.exp(-ANNEAL_RATE*i),MIN_TEMP)\n",
    "    return np_temp\n",
    "\n",
    "num_adam_iters = 10\n",
    "num_mcmc_samples = 5\n",
    "stepsize = 0.1\n",
    "indexes = np.where(M.flatten() == 0)\n",
    "\n",
    "n_params = len(indexes[0])\n",
    "\n",
    "limit_sigma=np.array([0, 0.2])\n",
    "limit_temp = [1, 1]\n",
    "\n",
    "#print init_var_params.shape\n",
    "elbos=[]\n",
    "sigma_prior = 5\n",
    "\n",
    "lambda0 = 1\n"
   ]
  },
  {
   "cell_type": "code",
   "execution_count": null,
   "metadata": {
    "collapsed": false
   },
   "outputs": [],
   "source": [
    "\n",
    "\n",
    "var_objective = lambda x,t: variational_objective(x, t, M, sigma_prior, limit_sigma, limit_temp, (xs,ys,eta),num_mcmc_samples)\n",
    "gradient = grad(var_objective)\n",
    "\n",
    "flag = 1\n",
    "\n",
    "P0 = np.exp(sinkhorn_logspace(npr.randn(K,K)))\n",
    "P_init = lambda0 * P0 + (1-lambda0) * P_map\n",
    "init_mean = np.log(P_init).flatten()\n",
    "init_logit_std = npr.randn(n_params)\n",
    "init_var_params = np.concatenate([init_mean, init_logit_std])\n",
    "init_var_params = np.hstack((init_var_params, 0))\n",
    "\n",
    "elbos = []\n",
    "params_all=[]\n",
    "cont_iter =[]\n",
    "\n",
    "import itertools as it\n",
    "variational_params = adam(gradient, init_var_params, step_size=stepsize, num_iters=num_adam_iters, callback = callback)\n"
   ]
  },
  {
   "cell_type": "code",
   "execution_count": 20,
   "metadata": {
    "collapsed": false
   },
   "outputs": [
    {
     "name": "stdout",
     "output_type": "stream",
     "text": [
      "[ 4.  0.  0.  1.  1.  0.  1.  0.  2.  1.]\n"
     ]
    },
    {
     "data": {
      "image/png": "[encoded data removed]",
      "text/plain": [
       "<matplotlib.figure.Figure at 0x125b5c750>"
      ]
     },
     "metadata": {},
     "output_type": "display_data"
    }
   ],
   "source": [
    "N_sample = 10\n",
    "plt.plot(-np.array(elbos))\n",
    "\n",
    "mu, sigma, temp = rounding_unpack_params(variational_params[0], K , M, limit_sigma, limit_temp)\n",
    "#mu, sigma, temp = rounding_unpack_params(init_var_params, K , M, limit_sigma, limit_temp)\n",
    "\n",
    "(sample, Psi_sample) = rounding_get_samples([mu, sigma], npr.randn(N_sample, K, K),  temp, limit_sigma, M)\n",
    "\n",
    "#Kfac = np.prod(np.arange(1, K+1))\n",
    "\n",
    "# post_inf = {}\n",
    "# for perm in it.permutations(np.arange(K)):\n",
    "#     post_inf[perm] = 0\n",
    "list_perm =[]\n",
    "n_corrects = np.zeros(N_sample)\n",
    "for s in range(N_sample):\n",
    "    # Round doubly stochastic matrix P to the nearest permutation matrix\n",
    "    row, col = linear_sum_assignment(-Psi_sample[s])\n",
    "    n_corrects[s] = n_correct(perm_to_P(col), P_true)\n",
    "    list_perm.append(tuple(col))\n",
    "#     post_inf[tuple(col)] += 1\n",
    "\n",
    "# post_inf_vec = np.zeros(Kfac)\n",
    "# for i, perm in enumerate(it.permutations(np.arange(K))):\n",
    "#     post_inf_vec[i] = post_inf[perm]\n",
    "\n",
    "# post_inf_vec = post_inf_vec / post_inf_vec.sum()\n",
    "# post_inf_vec_sort = post_inf_vec[sort]\n",
    "\n",
    "print n_corrects"
   ]
  },
  {
   "cell_type": "code",
   "execution_count": null,
   "metadata": {
    "collapsed": false
   },
   "outputs": [],
   "source": [
    "plt.imshow(M)"
   ]
  },
  {
   "cell_type": "code",
   "execution_count": null,
   "metadata": {
    "collapsed": true
   },
   "outputs": [],
   "source": []
  }
 ],
 "metadata": {
  "kernelspec": {
   "display_name": "Python 2",
   "language": "python",
   "name": "python2"
  },
  "language_info": {
   "codemirror_mode": {
    "name": "ipython",
    "version": 2
   },
   "file_extension": ".py",
   "mimetype": "text/x-python",
   "name": "python",
   "nbconvert_exporter": "python",
   "pygments_lexer": "ipython2",
   "version": "2.7.12"
  }
 },
 "nbformat": 4,
 "nbformat_minor": 0
}
