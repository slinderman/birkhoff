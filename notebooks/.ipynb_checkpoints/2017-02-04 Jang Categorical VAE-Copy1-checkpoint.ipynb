{
 "cells": [
  {
   "cell_type": "markdown",
   "metadata": {},
   "source": [
    "# Categorical VAE with Gumbel-Softmax\n",
    "\n",
    "Partial implementation of the paper [Categorical Reparameterization with Gumbel-Softmax](https://arxiv.org/abs/1611.01144) "
   ]
  },
  {
   "cell_type": "markdown",
   "metadata": {},
   "source": [
    "A categorical VAE with discrete latent variables. Tensorflow version is 0.10.0."
   ]
  },
  {
   "cell_type": "markdown",
   "metadata": {},
   "source": [
    "# 1. Imports and Helper Functions"
   ]
  },
  {
   "cell_type": "code",
   "execution_count": 63,
   "metadata": {
    "collapsed": false
   },
   "outputs": [],
   "source": [
    "import tensorflow as tf\n",
    "from tensorflow.examples.tutorials.mnist import input_data\n",
    "import matplotlib.pyplot as plt\n",
    "import numpy as np\n",
    "%matplotlib inline\n",
    "slim=tf.contrib.slim\n",
    "Bernoulli = tf.contrib.distributions.Bernoulli"
   ]
  },
  {
   "cell_type": "code",
   "execution_count": 64,
   "metadata": {
    "collapsed": true
   },
   "outputs": [],
   "source": [
    "def sample_gumbel(shape, eps=1e-20): \n",
    "  \"\"\"Sample from Gumbel(0, 1)\"\"\"\n",
    "  U = tf.random_uniform(shape,minval=0,maxval=1)\n",
    "  return -tf.log(-tf.log(U + eps) + eps)\n",
    "\n",
    "def gumbel_softmax_sample(logits, temperature): \n",
    "  \"\"\" Draw a sample from the Gumbel-Softmax distribution\"\"\"\n",
    "  y = logits + sample_gumbel(tf.shape(logits))\n",
    "  return tf.nn.softmax( y / temperature)\n",
    "\n",
    "def gumbel_softmax(logits, temperature, hard=False):\n",
    "  \"\"\"Sample from the Gumbel-Softmax distribution and optionally discretize.\n",
    "  Args:\n",
    "    logits: [batch_size, n_class] unnormalized log-probs\n",
    "    temperature: non-negative scalar\n",
    "    hard: if True, take argmax, but differentiate w.r.t. soft sample y\n",
    "  Returns:\n",
    "    [batch_size, n_class] sample from the Gumbel-Softmax distribution.\n",
    "    If hard=True, then the returned sample will be one-hot, otherwise it will\n",
    "    be a probabilitiy distribution that sums to 1 across classes\n",
    "  \"\"\"\n",
    "  y = gumbel_softmax_sample(logits, temperature)\n",
    "  if hard:\n",
    "    k = tf.shape(logits)[-1]\n",
    "    #y_hard = tf.cast(tf.one_hot(tf.argmax(y,1),k), y.dtype)\n",
    "    y_hard = tf.cast(tf.equal(y,tf.reduce_max(y,1,keep_dims=True)),y.dtype)\n",
    "    y = tf.stop_gradient(y_hard - y) + y\n",
    "  return y\n",
    "\n"
   ]
  },
  {
   "cell_type": "markdown",
   "metadata": {},
   "source": [
    "# 2. Build Model"
   ]
  },
  {
   "cell_type": "code",
   "execution_count": 65,
   "metadata": {
    "collapsed": true
   },
   "outputs": [],
   "source": [
    "K=10 # number of classes\n",
    "N=30 # number of categorical distributions"
   ]
  },
  {
   "cell_type": "code",
   "execution_count": 66,
   "metadata": {
    "collapsed": false
   },
   "outputs": [],
   "source": [
    "# input image x (shape=(batch_size,784))\n",
    "x = tf.placeholder(tf.float32,[None,784])\n",
    "# variational posterior q(y|x), i.e. the encoder (shape=(batch_size,200))\n",
    "net = slim.stack(x,slim.fully_connected,[512,256])\n",
    "# unnormalized logits for N separate K-categorical distributions (shape=(batch_size*N,K))\n",
    "logits_y = tf.reshape(slim.fully_connected(net,K*N,activation_fn=None),[-1,K])\n",
    "q_y = tf.nn.softmax(logits_y)\n",
    "log_q_y = tf.log(q_y+1e-20)\n",
    "# temperature\n",
    "tau = tf.Variable(5.0,name=\"temperature\")\n",
    "# sample and reshape back (shape=(batch_size,N,K))\n",
    "# set hard=True for ST Gumbel-Softmax\n",
    "y = tf.reshape(gumbel_softmax(logits_y,tau,hard=False),[-1,N,K])\n",
    "# generative model p(x|y), i.e. the decoder (shape=(batch_size,200))\n",
    "net = slim.stack(slim.flatten(y),slim.fully_connected,[256,512])\n",
    "logits_x = slim.fully_connected(net,784,activation_fn=None)\n",
    "# (shape=(batch_size,784))\n",
    "p_x = Bernoulli(logits=logits_x)"
   ]
  },
  {
   "cell_type": "code",
   "execution_count": 67,
   "metadata": {
    "collapsed": false
   },
   "outputs": [],
   "source": [
    "# loss and train ops\n",
    "kl_tmp = tf.reshape(q_y*(log_q_y-tf.log(1.0/K)),[-1,N,K])\n",
    "KL = tf.reduce_sum(kl_tmp,[1,2])\n",
    "elbo=tf.reduce_sum(p_x.log_prob(x),1) - KL\n"
   ]
  },
  {
   "cell_type": "code",
   "execution_count": 68,
   "metadata": {
    "collapsed": false
   },
   "outputs": [
    {
     "name": "stdout",
     "output_type": "stream",
     "text": [
      "WARNING:tensorflow:From <ipython-input-68-db15cc133fe7>:4 in <module>.: initialize_all_variables (from tensorflow.python.ops.variables) is deprecated and will be removed after 2017-03-02.\n",
      "Instructions for updating:\n",
      "Use `tf.global_variables_initializer` instead.\n"
     ]
    },
    {
     "name": "stderr",
     "output_type": "stream",
     "text": [
      "WARNING:tensorflow:From <ipython-input-68-db15cc133fe7>:4 in <module>.: initialize_all_variables (from tensorflow.python.ops.variables) is deprecated and will be removed after 2017-03-02.\n",
      "Instructions for updating:\n",
      "Use `tf.global_variables_initializer` instead.\n"
     ]
    }
   ],
   "source": [
    "loss=tf.reduce_mean(-elbo)\n",
    "lr=tf.constant(0.001)\n",
    "train_op=tf.train.AdamOptimizer(learning_rate=lr).minimize(loss,var_list=slim.get_model_variables())\n",
    "init_op=tf.initialize_all_variables()"
   ]
  },
  {
   "cell_type": "markdown",
   "metadata": {
    "collapsed": true
   },
   "source": [
    "# 3. Train"
   ]
  },
  {
   "cell_type": "code",
   "execution_count": 69,
   "metadata": {
    "collapsed": false
   },
   "outputs": [
    {
     "name": "stdout",
     "output_type": "stream",
     "text": [
      "Extracting /tmp/train-images-idx3-ubyte.gz\n",
      "Extracting /tmp/train-labels-idx1-ubyte.gz\n",
      "Extracting /tmp/t10k-images-idx3-ubyte.gz\n",
      "Extracting /tmp/t10k-labels-idx1-ubyte.gz\n"
     ]
    }
   ],
   "source": [
    "# get data\n",
    "#input_data.read_data_sets('MNIST_data', one_hot=True)\n",
    "data = input_data.read_data_sets('/tmp/', one_hot=True).train "
   ]
  },
  {
   "cell_type": "code",
   "execution_count": 79,
   "metadata": {
    "collapsed": true
   },
   "outputs": [],
   "source": [
    "BATCH_SIZE=100\n",
    "NUM_ITERS=50000\n",
    "tau0=1.0 # initial temperature\n",
    "np_temp=tau0\n",
    "np_lr=0.001\n",
    "ANNEAL_RATE=0.00003\n",
    "MIN_TEMP=0.5"
   ]
  },
  {
   "cell_type": "code",
   "execution_count": 80,
   "metadata": {
    "collapsed": false,
    "scrolled": true
   },
   "outputs": [
    {
     "name": "stdout",
     "output_type": "stream",
     "text": [
      "Step 1, ELBO: -544.124\n",
      "Step 101, ELBO: -191.871\n",
      "Step 201, ELBO: -189.244\n",
      "Step 301, ELBO: -189.455\n",
      "Step 401, ELBO: -166.080\n",
      "Step 501, ELBO: -156.076\n",
      "Step 601, ELBO: -147.690\n",
      "Step 701, ELBO: -134.441\n",
      "Step 801, ELBO: -135.341\n",
      "Step 901, ELBO: -131.548\n",
      "Step 1001, ELBO: -141.607\n",
      "Step 1101, ELBO: -133.399\n",
      "Step 1201, ELBO: -139.475\n",
      "Step 1301, ELBO: -130.356\n",
      "Step 1401, ELBO: -134.380\n",
      "Step 1501, ELBO: -130.077\n",
      "Step 1601, ELBO: -127.644\n",
      "Step 1701, ELBO: -128.581\n",
      "Step 1801, ELBO: -125.512\n",
      "Step 1901, ELBO: -126.613\n",
      "Step 2001, ELBO: -119.520\n",
      "Step 2101, ELBO: -119.713\n",
      "Step 2201, ELBO: -122.466\n",
      "Step 2301, ELBO: -115.679\n",
      "Step 2401, ELBO: -116.363\n",
      "Step 2501, ELBO: -121.614\n",
      "Step 2601, ELBO: -120.177\n",
      "Step 2701, ELBO: -119.074\n",
      "Step 2801, ELBO: -119.438\n",
      "Step 2901, ELBO: -122.163\n",
      "Step 3001, ELBO: -111.058\n",
      "Step 3101, ELBO: -115.427\n",
      "Step 3201, ELBO: -111.739\n",
      "Step 3301, ELBO: -109.741\n",
      "Step 3401, ELBO: -113.880\n",
      "Step 3501, ELBO: -115.283\n",
      "Step 3601, ELBO: -115.115\n",
      "Step 3701, ELBO: -110.570\n",
      "Step 3801, ELBO: -115.583\n",
      "Step 3901, ELBO: -119.180\n",
      "Step 4001, ELBO: -107.563\n",
      "Step 4101, ELBO: -110.927\n",
      "Step 4201, ELBO: -107.441\n",
      "Step 4301, ELBO: -115.193\n",
      "Step 4401, ELBO: -109.008\n",
      "Step 4501, ELBO: -106.887\n",
      "Step 4601, ELBO: -115.365\n",
      "Step 4701, ELBO: -111.228\n",
      "Step 4801, ELBO: -106.825\n",
      "Step 4901, ELBO: -113.590\n",
      "Step 5001, ELBO: -109.373\n",
      "Step 5101, ELBO: -107.961\n",
      "Step 5201, ELBO: -105.190\n",
      "Step 5301, ELBO: -110.146\n",
      "Step 5401, ELBO: -107.227\n",
      "Step 5501, ELBO: -108.251\n",
      "Step 5601, ELBO: -112.028\n",
      "Step 5701, ELBO: -103.785\n",
      "Step 5801, ELBO: -107.108\n",
      "Step 5901, ELBO: -112.111\n",
      "Step 6001, ELBO: -102.914\n",
      "Step 6101, ELBO: -112.522\n",
      "Step 6201, ELBO: -101.537\n",
      "Step 6301, ELBO: -108.798\n",
      "Step 6401, ELBO: -104.950\n",
      "Step 6501, ELBO: -101.644\n",
      "Step 6601, ELBO: -107.067\n",
      "Step 6701, ELBO: -111.608\n",
      "Step 6801, ELBO: -109.699\n",
      "Step 6901, ELBO: -105.879\n",
      "Step 7001, ELBO: -110.505\n",
      "Step 7101, ELBO: -106.796\n",
      "Step 7201, ELBO: -109.709\n",
      "Step 7301, ELBO: -108.309\n",
      "Step 7401, ELBO: -107.514\n",
      "Step 7501, ELBO: -110.449\n",
      "Step 7601, ELBO: -104.098\n",
      "Step 7701, ELBO: -104.311\n",
      "Step 7801, ELBO: -106.902\n",
      "Step 7901, ELBO: -104.672\n",
      "Step 8001, ELBO: -101.556\n",
      "Step 8101, ELBO: -107.784\n",
      "Step 8201, ELBO: -106.240\n",
      "Step 8301, ELBO: -105.106\n",
      "Step 8401, ELBO: -112.110\n",
      "Step 8501, ELBO: -109.586\n",
      "Step 8601, ELBO: -104.351\n",
      "Step 8701, ELBO: -102.490\n",
      "Step 8801, ELBO: -102.415\n",
      "Step 8901, ELBO: -106.149\n",
      "Step 9001, ELBO: -103.048\n",
      "Step 9101, ELBO: -105.401\n",
      "Step 9201, ELBO: -102.879\n",
      "Step 9301, ELBO: -106.259\n",
      "Step 9401, ELBO: -106.451\n",
      "Step 9501, ELBO: -99.458\n",
      "Step 9601, ELBO: -104.570\n",
      "Step 9701, ELBO: -106.955\n",
      "Step 9801, ELBO: -107.101\n",
      "Step 9901, ELBO: -101.501\n",
      "Step 10001, ELBO: -105.493\n",
      "Step 10101, ELBO: -101.691\n",
      "Step 10201, ELBO: -99.618\n",
      "Step 10301, ELBO: -102.198\n",
      "Step 10401, ELBO: -103.909\n",
      "Step 10501, ELBO: -105.535\n",
      "Step 10601, ELBO: -100.762\n",
      "Step 10701, ELBO: -103.421\n",
      "Step 10801, ELBO: -102.270\n",
      "Step 10901, ELBO: -105.309\n",
      "Step 11001, ELBO: -108.586\n",
      "Step 11101, ELBO: -103.998\n",
      "Step 11201, ELBO: -101.935\n",
      "Step 11301, ELBO: -100.042\n",
      "Step 11401, ELBO: -104.027\n",
      "Step 11501, ELBO: -106.839\n",
      "Step 11601, ELBO: -103.140\n",
      "Step 11701, ELBO: -105.721\n",
      "Step 11801, ELBO: -100.182\n",
      "Step 11901, ELBO: -102.610\n",
      "Step 12001, ELBO: -104.711\n",
      "Step 12101, ELBO: -101.758\n",
      "Step 12201, ELBO: -101.469\n",
      "Step 12301, ELBO: -106.403\n",
      "Step 12401, ELBO: -107.797\n",
      "Step 12501, ELBO: -107.113\n",
      "Step 12601, ELBO: -99.637\n",
      "Step 12701, ELBO: -105.817\n",
      "Step 12801, ELBO: -107.236\n",
      "Step 12901, ELBO: -102.379\n",
      "Step 13001, ELBO: -104.184\n",
      "Step 13101, ELBO: -107.364\n",
      "Step 13201, ELBO: -105.047\n",
      "Step 13301, ELBO: -103.207\n",
      "Step 13401, ELBO: -102.292\n",
      "Step 13501, ELBO: -106.839\n",
      "Step 13601, ELBO: -102.310\n",
      "Step 13701, ELBO: -102.570\n",
      "Step 13801, ELBO: -103.127\n",
      "Step 13901, ELBO: -103.335\n",
      "Step 14001, ELBO: -101.006\n",
      "Step 14101, ELBO: -105.687\n",
      "Step 14201, ELBO: -105.586\n",
      "Step 14301, ELBO: -105.390\n",
      "Step 14401, ELBO: -104.590\n",
      "Step 14501, ELBO: -99.726\n",
      "Step 14601, ELBO: -107.112\n",
      "Step 14701, ELBO: -108.328\n",
      "Step 14801, ELBO: -103.732\n",
      "Step 14901, ELBO: -100.918\n",
      "Step 15001, ELBO: -107.532\n",
      "Step 15101, ELBO: -102.049\n",
      "Step 15201, ELBO: -103.860\n",
      "Step 15301, ELBO: -106.083\n",
      "Step 15401, ELBO: -101.162\n",
      "Step 15501, ELBO: -102.437\n",
      "Step 15601, ELBO: -105.787\n",
      "Step 15701, ELBO: -104.835\n",
      "Step 15801, ELBO: -98.773\n",
      "Step 15901, ELBO: -107.808\n",
      "Step 16001, ELBO: -107.956\n",
      "Step 16101, ELBO: -105.941\n",
      "Step 16201, ELBO: -98.877\n",
      "Step 16301, ELBO: -104.026\n",
      "Step 16401, ELBO: -99.277\n",
      "Step 16501, ELBO: -104.318\n",
      "Step 16601, ELBO: -103.654\n",
      "Step 16701, ELBO: -99.901\n",
      "Step 16801, ELBO: -102.591\n",
      "Step 16901, ELBO: -101.488\n",
      "Step 17001, ELBO: -103.086\n",
      "Step 17101, ELBO: -100.243\n",
      "Step 17201, ELBO: -98.959\n",
      "Step 17301, ELBO: -102.065\n",
      "Step 17401, ELBO: -99.610\n",
      "Step 17501, ELBO: -105.404\n",
      "Step 17601, ELBO: -105.117\n",
      "Step 17701, ELBO: -104.985\n",
      "Step 17801, ELBO: -100.990\n",
      "Step 17901, ELBO: -100.963\n",
      "Step 18001, ELBO: -102.411\n",
      "Step 18101, ELBO: -102.600\n",
      "Step 18201, ELBO: -98.387\n",
      "Step 18301, ELBO: -98.518\n",
      "Step 18401, ELBO: -102.564\n",
      "Step 18501, ELBO: -103.805\n",
      "Step 18601, ELBO: -102.252\n",
      "Step 18701, ELBO: -100.030\n",
      "Step 18801, ELBO: -101.643\n",
      "Step 18901, ELBO: -100.898\n",
      "Step 19001, ELBO: -104.441\n",
      "Step 19101, ELBO: -106.257\n",
      "Step 19201, ELBO: -100.827\n",
      "Step 19301, ELBO: -106.477\n",
      "Step 19401, ELBO: -104.615\n",
      "Step 19501, ELBO: -100.911\n",
      "Step 19601, ELBO: -101.351\n",
      "Step 19701, ELBO: -106.350\n",
      "Step 19801, ELBO: -104.002\n",
      "Step 19901, ELBO: -104.523\n",
      "Step 20001, ELBO: -105.059\n",
      "Step 20101, ELBO: -99.976\n",
      "Step 20201, ELBO: -103.482\n",
      "Step 20301, ELBO: -101.756\n",
      "Step 20401, ELBO: -106.694\n",
      "Step 20501, ELBO: -105.523\n",
      "Step 20601, ELBO: -102.718\n",
      "Step 20701, ELBO: -103.419\n",
      "Step 20801, ELBO: -102.703\n",
      "Step 20901, ELBO: -107.196\n",
      "Step 21001, ELBO: -101.248\n",
      "Step 21101, ELBO: -103.252\n",
      "Step 21201, ELBO: -101.155\n",
      "Step 21301, ELBO: -99.317\n",
      "Step 21401, ELBO: -101.708\n",
      "Step 21501, ELBO: -101.838\n",
      "Step 21601, ELBO: -104.388\n",
      "Step 21701, ELBO: -104.555\n",
      "Step 21801, ELBO: -101.002\n",
      "Step 21901, ELBO: -102.078\n",
      "Step 22001, ELBO: -104.439\n",
      "Step 22101, ELBO: -100.456\n",
      "Step 22201, ELBO: -102.703\n",
      "Step 22301, ELBO: -102.238\n",
      "Step 22401, ELBO: -102.371\n",
      "Step 22501, ELBO: -107.053\n",
      "Step 22601, ELBO: -101.986\n",
      "Step 22701, ELBO: -103.678\n",
      "Step 22801, ELBO: -102.042\n",
      "Step 22901, ELBO: -100.396\n",
      "Step 23001, ELBO: -100.244\n",
      "Step 23101, ELBO: -99.464\n",
      "Step 23201, ELBO: -104.681\n",
      "Step 23301, ELBO: -97.788\n",
      "Step 23401, ELBO: -101.149\n",
      "Step 23501, ELBO: -106.691\n",
      "Step 23601, ELBO: -99.842\n",
      "Step 23701, ELBO: -102.545\n",
      "Step 23801, ELBO: -103.156\n",
      "Step 23901, ELBO: -104.211\n",
      "Step 24001, ELBO: -99.483\n",
      "Step 24101, ELBO: -101.778\n",
      "Step 24201, ELBO: -106.532\n",
      "Step 24301, ELBO: -106.949\n",
      "Step 24401, ELBO: -102.930\n",
      "Step 24501, ELBO: -106.804\n",
      "Step 24601, ELBO: -98.310\n",
      "Step 24701, ELBO: -100.983\n",
      "Step 24801, ELBO: -103.821\n",
      "Step 24901, ELBO: -106.201\n",
      "Step 25001, ELBO: -103.625\n",
      "Step 25101, ELBO: -99.221\n",
      "Step 25201, ELBO: -100.247\n",
      "Step 25301, ELBO: -95.504\n",
      "Step 25401, ELBO: -100.590\n",
      "Step 25501, ELBO: -103.583\n",
      "Step 25601, ELBO: -106.381\n",
      "Step 25701, ELBO: -100.623\n",
      "Step 25801, ELBO: -99.408\n",
      "Step 25901, ELBO: -103.548\n",
      "Step 26001, ELBO: -102.199\n",
      "Step 26101, ELBO: -103.193\n",
      "Step 26201, ELBO: -100.622\n",
      "Step 26301, ELBO: -107.404\n",
      "Step 26401, ELBO: -100.597\n",
      "Step 26501, ELBO: -96.106\n",
      "Step 26601, ELBO: -100.297\n",
      "Step 26701, ELBO: -100.473\n",
      "Step 26801, ELBO: -97.058\n",
      "Step 26901, ELBO: -105.098\n",
      "Step 27001, ELBO: -105.241\n",
      "Step 27101, ELBO: -102.368\n",
      "Step 27201, ELBO: -107.540\n",
      "Step 27301, ELBO: -100.882\n",
      "Step 27401, ELBO: -99.974\n",
      "Step 27501, ELBO: -98.444\n",
      "Step 27601, ELBO: -98.948\n",
      "Step 27701, ELBO: -103.884\n",
      "Step 27801, ELBO: -101.181\n",
      "Step 27901, ELBO: -100.127\n",
      "Step 28001, ELBO: -102.105\n",
      "Step 28101, ELBO: -103.390\n",
      "Step 28201, ELBO: -96.305\n",
      "Step 28301, ELBO: -102.509\n",
      "Step 28401, ELBO: -101.200\n",
      "Step 28501, ELBO: -100.866\n",
      "Step 28601, ELBO: -102.883\n",
      "Step 28701, ELBO: -101.633\n",
      "Step 28801, ELBO: -103.101\n",
      "Step 28901, ELBO: -98.769\n",
      "Step 29001, ELBO: -101.572\n",
      "Step 29101, ELBO: -107.051\n",
      "Step 29201, ELBO: -103.313\n",
      "Step 29301, ELBO: -105.445\n",
      "Step 29401, ELBO: -100.914\n",
      "Step 29501, ELBO: -104.120\n",
      "Step 29601, ELBO: -102.251\n",
      "Step 29701, ELBO: -100.920\n",
      "Step 29801, ELBO: -101.559\n",
      "Step 29901, ELBO: -103.494\n",
      "Step 30001, ELBO: -101.143\n",
      "Step 30101, ELBO: -102.827\n",
      "Step 30201, ELBO: -101.467\n",
      "Step 30301, ELBO: -103.066\n",
      "Step 30401, ELBO: -101.552\n",
      "Step 30501, ELBO: -101.372\n",
      "Step 30601, ELBO: -103.235\n",
      "Step 30701, ELBO: -104.846\n",
      "Step 30801, ELBO: -99.801\n",
      "Step 30901, ELBO: -106.465\n",
      "Step 31001, ELBO: -102.097\n",
      "Step 31101, ELBO: -102.042\n",
      "Step 31201, ELBO: -102.704\n",
      "Step 31301, ELBO: -102.697\n",
      "Step 31401, ELBO: -105.954\n",
      "Step 31501, ELBO: -102.176\n",
      "Step 31601, ELBO: -103.563\n",
      "Step 31701, ELBO: -99.629\n",
      "Step 31801, ELBO: -105.664\n",
      "Step 31901, ELBO: -104.765\n",
      "Step 32001, ELBO: -102.095\n",
      "Step 32101, ELBO: -101.922\n",
      "Step 32201, ELBO: -105.073\n",
      "Step 32301, ELBO: -101.664\n",
      "Step 32401, ELBO: -105.839\n",
      "Step 32501, ELBO: -101.397\n",
      "Step 32601, ELBO: -106.981\n",
      "Step 32701, ELBO: -102.402\n",
      "Step 32801, ELBO: -100.719\n",
      "Step 32901, ELBO: -101.271\n",
      "Step 33001, ELBO: -98.322\n",
      "Step 33101, ELBO: -100.389\n",
      "Step 33201, ELBO: -98.958\n",
      "Step 33301, ELBO: -103.318\n",
      "Step 33401, ELBO: -100.131\n",
      "Step 33501, ELBO: -96.507\n",
      "Step 33601, ELBO: -97.986\n",
      "Step 33701, ELBO: -104.549\n",
      "Step 33801, ELBO: -105.881\n",
      "Step 33901, ELBO: -99.411\n",
      "Step 34001, ELBO: -101.165\n",
      "Step 34101, ELBO: -102.312\n",
      "Step 34201, ELBO: -99.375\n",
      "Step 34301, ELBO: -99.206\n",
      "Step 34401, ELBO: -102.463\n",
      "Step 34501, ELBO: -103.227\n",
      "Step 34601, ELBO: -104.206\n",
      "Step 34701, ELBO: -104.565\n",
      "Step 34801, ELBO: -101.133\n",
      "Step 34901, ELBO: -101.677\n",
      "Step 35001, ELBO: -106.439\n",
      "Step 35101, ELBO: -100.359\n",
      "Step 35201, ELBO: -102.733\n",
      "Step 35301, ELBO: -100.514\n",
      "Step 35401, ELBO: -98.862\n",
      "Step 35501, ELBO: -104.428\n",
      "Step 35601, ELBO: -102.639\n",
      "Step 35701, ELBO: -99.301\n",
      "Step 35801, ELBO: -105.501\n",
      "Step 35901, ELBO: -99.271\n",
      "Step 36001, ELBO: -100.348\n",
      "Step 36101, ELBO: -102.776\n",
      "Step 36201, ELBO: -100.167\n",
      "Step 36301, ELBO: -97.573\n",
      "Step 36401, ELBO: -102.009\n",
      "Step 36501, ELBO: -98.054\n",
      "Step 36601, ELBO: -104.443\n",
      "Step 36701, ELBO: -97.084\n",
      "Step 36801, ELBO: -99.899\n",
      "Step 36901, ELBO: -102.010\n",
      "Step 37001, ELBO: -100.178\n",
      "Step 37101, ELBO: -100.845\n",
      "Step 37201, ELBO: -99.158\n",
      "Step 37301, ELBO: -97.566\n",
      "Step 37401, ELBO: -106.401\n",
      "Step 37501, ELBO: -100.688\n",
      "Step 37601, ELBO: -99.828\n",
      "Step 37701, ELBO: -101.165\n",
      "Step 37801, ELBO: -97.767\n",
      "Step 37901, ELBO: -100.014\n",
      "Step 38001, ELBO: -105.488\n",
      "Step 38101, ELBO: -96.799\n",
      "Step 38201, ELBO: -101.598\n",
      "Step 38301, ELBO: -102.318\n",
      "Step 38401, ELBO: -104.164\n",
      "Step 38501, ELBO: -96.435\n",
      "Step 38601, ELBO: -98.064\n",
      "Step 38701, ELBO: -103.498\n",
      "Step 38801, ELBO: -101.087\n",
      "Step 38901, ELBO: -98.115\n",
      "Step 39001, ELBO: -104.134\n",
      "Step 39101, ELBO: -101.833\n",
      "Step 39201, ELBO: -101.468\n",
      "Step 39301, ELBO: -98.462\n",
      "Step 39401, ELBO: -102.882\n",
      "Step 39501, ELBO: -100.861\n",
      "Step 39601, ELBO: -103.572\n",
      "Step 39701, ELBO: -101.146\n",
      "Step 39801, ELBO: -100.973\n",
      "Step 39901, ELBO: -103.129\n",
      "Step 40001, ELBO: -102.713\n",
      "Step 40101, ELBO: -97.122\n",
      "Step 40201, ELBO: -98.755\n",
      "Step 40301, ELBO: -99.069\n",
      "Step 40401, ELBO: -101.625\n",
      "Step 40501, ELBO: -100.133\n",
      "Step 40601, ELBO: -98.600\n",
      "Step 40701, ELBO: -103.817\n",
      "Step 40801, ELBO: -104.268\n",
      "Step 40901, ELBO: -96.911\n",
      "Step 41001, ELBO: -100.591\n",
      "Step 41101, ELBO: -101.228\n",
      "Step 41201, ELBO: -102.071\n",
      "Step 41301, ELBO: -103.895\n",
      "Step 41401, ELBO: -102.855\n",
      "Step 41501, ELBO: -100.452\n",
      "Step 41601, ELBO: -98.640\n",
      "Step 41701, ELBO: -98.573\n",
      "Step 41801, ELBO: -98.887\n",
      "Step 41901, ELBO: -104.051\n",
      "Step 42001, ELBO: -104.762\n",
      "Step 42101, ELBO: -102.616\n",
      "Step 42201, ELBO: -103.517\n",
      "Step 42301, ELBO: -102.997\n",
      "Step 42401, ELBO: -101.488\n",
      "Step 42501, ELBO: -101.649\n",
      "Step 42601, ELBO: -102.216\n",
      "Step 42701, ELBO: -97.177\n",
      "Step 42801, ELBO: -103.203\n",
      "Step 42901, ELBO: -101.840\n",
      "Step 43001, ELBO: -98.660\n",
      "Step 43101, ELBO: -103.228\n",
      "Step 43201, ELBO: -100.178\n",
      "Step 43301, ELBO: -101.105\n",
      "Step 43401, ELBO: -101.512\n",
      "Step 43501, ELBO: -100.419\n",
      "Step 43601, ELBO: -104.027\n",
      "Step 43701, ELBO: -103.690\n",
      "Step 43801, ELBO: -100.743\n",
      "Step 43901, ELBO: -99.353\n",
      "Step 44001, ELBO: -105.378\n",
      "Step 44101, ELBO: -103.903\n",
      "Step 44201, ELBO: -104.459\n",
      "Step 44301, ELBO: -98.208\n",
      "Step 44401, ELBO: -100.637\n",
      "Step 44501, ELBO: -100.849\n",
      "Step 44601, ELBO: -101.694\n",
      "Step 44701, ELBO: -98.871\n",
      "Step 44801, ELBO: -102.015\n",
      "Step 44901, ELBO: -103.772\n",
      "Step 45001, ELBO: -100.494\n",
      "Step 45101, ELBO: -103.422\n",
      "Step 45201, ELBO: -102.118\n",
      "Step 45301, ELBO: -97.637\n",
      "Step 45401, ELBO: -100.903\n",
      "Step 45501, ELBO: -101.497\n",
      "Step 45601, ELBO: -100.516\n",
      "Step 45701, ELBO: -101.338\n",
      "Step 45801, ELBO: -100.259\n",
      "Step 45901, ELBO: -100.859\n",
      "Step 46001, ELBO: -100.249\n",
      "Step 46101, ELBO: -100.135\n",
      "Step 46201, ELBO: -99.593\n",
      "Step 46301, ELBO: -101.483\n",
      "Step 46401, ELBO: -103.025\n",
      "Step 46501, ELBO: -97.300\n",
      "Step 46601, ELBO: -101.568\n",
      "Step 46701, ELBO: -99.598\n",
      "Step 46801, ELBO: -104.069\n",
      "Step 46901, ELBO: -101.130\n",
      "Step 47001, ELBO: -100.710\n",
      "Step 47101, ELBO: -103.194\n",
      "Step 47201, ELBO: -105.820\n",
      "Step 47301, ELBO: -96.306\n",
      "Step 47401, ELBO: -99.355\n"
     ]
    },
    {
     "ename": "KeyboardInterrupt",
     "evalue": "",
     "output_type": "error",
     "traceback": [
      "\u001b[0;31m---------------------------------------------------------------------------\u001b[0m",
      "\u001b[0;31mKeyboardInterrupt\u001b[0m                         Traceback (most recent call last)",
      "\u001b[0;32m<ipython-input-80-6b5d55f64d92>\u001b[0m in \u001b[0;36m<module>\u001b[0;34m()\u001b[0m\n\u001b[1;32m      7\u001b[0m       \u001b[0mx\u001b[0m\u001b[0;34m:\u001b[0m\u001b[0mnp_x\u001b[0m\u001b[0;34m,\u001b[0m\u001b[0;34m\u001b[0m\u001b[0m\n\u001b[1;32m      8\u001b[0m       \u001b[0mtau\u001b[0m\u001b[0;34m:\u001b[0m\u001b[0mnp_temp\u001b[0m\u001b[0;34m,\u001b[0m\u001b[0;34m\u001b[0m\u001b[0m\n\u001b[0;32m----> 9\u001b[0;31m       \u001b[0mlr\u001b[0m\u001b[0;34m:\u001b[0m\u001b[0mnp_lr\u001b[0m\u001b[0;34m\u001b[0m\u001b[0m\n\u001b[0m\u001b[1;32m     10\u001b[0m     })\n\u001b[1;32m     11\u001b[0m   \u001b[0;32mif\u001b[0m \u001b[0mi\u001b[0m \u001b[0;34m%\u001b[0m \u001b[0;36m100\u001b[0m \u001b[0;34m==\u001b[0m \u001b[0;36m1\u001b[0m\u001b[0;34m:\u001b[0m\u001b[0;34m\u001b[0m\u001b[0m\n",
      "\u001b[0;32m/Users/Cybele/anaconda/lib/python2.7/site-packages/tensorflow/python/client/session.pyc\u001b[0m in \u001b[0;36mrun\u001b[0;34m(self, fetches, feed_dict, options, run_metadata)\u001b[0m\n\u001b[1;32m    764\u001b[0m     \u001b[0;32mtry\u001b[0m\u001b[0;34m:\u001b[0m\u001b[0;34m\u001b[0m\u001b[0m\n\u001b[1;32m    765\u001b[0m       result = self._run(None, fetches, feed_dict, options_ptr,\n\u001b[0;32m--> 766\u001b[0;31m                          run_metadata_ptr)\n\u001b[0m\u001b[1;32m    767\u001b[0m       \u001b[0;32mif\u001b[0m \u001b[0mrun_metadata\u001b[0m\u001b[0;34m:\u001b[0m\u001b[0;34m\u001b[0m\u001b[0m\n\u001b[1;32m    768\u001b[0m         \u001b[0mproto_data\u001b[0m \u001b[0;34m=\u001b[0m \u001b[0mtf_session\u001b[0m\u001b[0;34m.\u001b[0m\u001b[0mTF_GetBuffer\u001b[0m\u001b[0;34m(\u001b[0m\u001b[0mrun_metadata_ptr\u001b[0m\u001b[0;34m)\u001b[0m\u001b[0;34m\u001b[0m\u001b[0m\n",
      "\u001b[0;32m/Users/Cybele/anaconda/lib/python2.7/site-packages/tensorflow/python/client/session.pyc\u001b[0m in \u001b[0;36m_run\u001b[0;34m(self, handle, fetches, feed_dict, options, run_metadata)\u001b[0m\n\u001b[1;32m    962\u001b[0m     \u001b[0;32mif\u001b[0m \u001b[0mfinal_fetches\u001b[0m \u001b[0;32mor\u001b[0m \u001b[0mfinal_targets\u001b[0m\u001b[0;34m:\u001b[0m\u001b[0;34m\u001b[0m\u001b[0m\n\u001b[1;32m    963\u001b[0m       results = self._do_run(handle, final_targets, final_fetches,\n\u001b[0;32m--> 964\u001b[0;31m                              feed_dict_string, options, run_metadata)\n\u001b[0m\u001b[1;32m    965\u001b[0m     \u001b[0;32melse\u001b[0m\u001b[0;34m:\u001b[0m\u001b[0;34m\u001b[0m\u001b[0m\n\u001b[1;32m    966\u001b[0m       \u001b[0mresults\u001b[0m \u001b[0;34m=\u001b[0m \u001b[0;34m[\u001b[0m\u001b[0;34m]\u001b[0m\u001b[0;34m\u001b[0m\u001b[0m\n",
      "\u001b[0;32m/Users/Cybele/anaconda/lib/python2.7/site-packages/tensorflow/python/client/session.pyc\u001b[0m in \u001b[0;36m_do_run\u001b[0;34m(self, handle, target_list, fetch_list, feed_dict, options, run_metadata)\u001b[0m\n\u001b[1;32m   1012\u001b[0m     \u001b[0;32mif\u001b[0m \u001b[0mhandle\u001b[0m \u001b[0;32mis\u001b[0m \u001b[0mNone\u001b[0m\u001b[0;34m:\u001b[0m\u001b[0;34m\u001b[0m\u001b[0m\n\u001b[1;32m   1013\u001b[0m       return self._do_call(_run_fn, self._session, feed_dict, fetch_list,\n\u001b[0;32m-> 1014\u001b[0;31m                            target_list, options, run_metadata)\n\u001b[0m\u001b[1;32m   1015\u001b[0m     \u001b[0;32melse\u001b[0m\u001b[0;34m:\u001b[0m\u001b[0;34m\u001b[0m\u001b[0m\n\u001b[1;32m   1016\u001b[0m       return self._do_call(_prun_fn, self._session, handle, feed_dict,\n",
      "\u001b[0;32m/Users/Cybele/anaconda/lib/python2.7/site-packages/tensorflow/python/client/session.pyc\u001b[0m in \u001b[0;36m_do_call\u001b[0;34m(self, fn, *args)\u001b[0m\n\u001b[1;32m   1019\u001b[0m   \u001b[0;32mdef\u001b[0m \u001b[0m_do_call\u001b[0m\u001b[0;34m(\u001b[0m\u001b[0mself\u001b[0m\u001b[0;34m,\u001b[0m \u001b[0mfn\u001b[0m\u001b[0;34m,\u001b[0m \u001b[0;34m*\u001b[0m\u001b[0margs\u001b[0m\u001b[0;34m)\u001b[0m\u001b[0;34m:\u001b[0m\u001b[0;34m\u001b[0m\u001b[0m\n\u001b[1;32m   1020\u001b[0m     \u001b[0;32mtry\u001b[0m\u001b[0;34m:\u001b[0m\u001b[0;34m\u001b[0m\u001b[0m\n\u001b[0;32m-> 1021\u001b[0;31m       \u001b[0;32mreturn\u001b[0m \u001b[0mfn\u001b[0m\u001b[0;34m(\u001b[0m\u001b[0;34m*\u001b[0m\u001b[0margs\u001b[0m\u001b[0;34m)\u001b[0m\u001b[0;34m\u001b[0m\u001b[0m\n\u001b[0m\u001b[1;32m   1022\u001b[0m     \u001b[0;32mexcept\u001b[0m \u001b[0merrors\u001b[0m\u001b[0;34m.\u001b[0m\u001b[0mOpError\u001b[0m \u001b[0;32mas\u001b[0m \u001b[0me\u001b[0m\u001b[0;34m:\u001b[0m\u001b[0;34m\u001b[0m\u001b[0m\n\u001b[1;32m   1023\u001b[0m       \u001b[0mmessage\u001b[0m \u001b[0;34m=\u001b[0m \u001b[0mcompat\u001b[0m\u001b[0;34m.\u001b[0m\u001b[0mas_text\u001b[0m\u001b[0;34m(\u001b[0m\u001b[0me\u001b[0m\u001b[0;34m.\u001b[0m\u001b[0mmessage\u001b[0m\u001b[0;34m)\u001b[0m\u001b[0;34m\u001b[0m\u001b[0m\n",
      "\u001b[0;32m/Users/Cybele/anaconda/lib/python2.7/site-packages/tensorflow/python/client/session.pyc\u001b[0m in \u001b[0;36m_run_fn\u001b[0;34m(session, feed_dict, fetch_list, target_list, options, run_metadata)\u001b[0m\n\u001b[1;32m   1001\u001b[0m         return tf_session.TF_Run(session, options,\n\u001b[1;32m   1002\u001b[0m                                  \u001b[0mfeed_dict\u001b[0m\u001b[0;34m,\u001b[0m \u001b[0mfetch_list\u001b[0m\u001b[0;34m,\u001b[0m \u001b[0mtarget_list\u001b[0m\u001b[0;34m,\u001b[0m\u001b[0;34m\u001b[0m\u001b[0m\n\u001b[0;32m-> 1003\u001b[0;31m                                  status, run_metadata)\n\u001b[0m\u001b[1;32m   1004\u001b[0m \u001b[0;34m\u001b[0m\u001b[0m\n\u001b[1;32m   1005\u001b[0m     \u001b[0;32mdef\u001b[0m \u001b[0m_prun_fn\u001b[0m\u001b[0;34m(\u001b[0m\u001b[0msession\u001b[0m\u001b[0;34m,\u001b[0m \u001b[0mhandle\u001b[0m\u001b[0;34m,\u001b[0m \u001b[0mfeed_dict\u001b[0m\u001b[0;34m,\u001b[0m \u001b[0mfetch_list\u001b[0m\u001b[0;34m)\u001b[0m\u001b[0;34m:\u001b[0m\u001b[0;34m\u001b[0m\u001b[0m\n",
      "\u001b[0;31mKeyboardInterrupt\u001b[0m: "
     ]
    }
   ],
   "source": [
    "dat=[]\n",
    "sess=tf.InteractiveSession()\n",
    "sess.run(init_op)\n",
    "for i in range(1,NUM_ITERS):\n",
    "  np_x,np_y=data.next_batch(BATCH_SIZE)\n",
    "  _,np_loss=sess.run([train_op,loss],{\n",
    "      x:np_x,\n",
    "      tau:np_temp,\n",
    "      lr:np_lr\n",
    "    })\n",
    "  if i % 100 == 1:\n",
    "    dat.append([i,np_temp,np_loss])\n",
    "  if i % 1000 == 1:\n",
    "    np_temp=np.maximum(tau0*np.exp(-ANNEAL_RATE*i),MIN_TEMP)\n",
    "    np_lr*=0.9\n",
    "  if i % 100 == 1:\n",
    "    print('Step %d, ELBO: %0.3f' % (i,-np_loss))"
   ]
  },
  {
   "cell_type": "markdown",
   "metadata": {},
   "source": [
    "## save to animation"
   ]
  },
  {
   "cell_type": "code",
   "execution_count": 72,
   "metadata": {
    "collapsed": false
   },
   "outputs": [],
   "source": [
    "np_x1,_=data.next_batch(100)\n",
    "np_x2,np_y1 = sess.run([p_x.mean(),y],{x:np_x1})"
   ]
  },
  {
   "cell_type": "code",
   "execution_count": 73,
   "metadata": {
    "collapsed": true
   },
   "outputs": [],
   "source": [
    "import matplotlib.animation as animation"
   ]
  },
  {
   "cell_type": "code",
   "execution_count": null,
   "metadata": {
    "collapsed": false
   },
   "outputs": [],
   "source": [
    "def save_anim(data,figsize,filename):\n",
    "  fig=plt.figure(figsize=(figsize[1]/10.0,figsize[0]/10.0))\n",
    "  im = plt.imshow(data[0].reshape(figsize),cmap=plt.cm.gray,interpolation='none')\n",
    "  plt.gca().set_axis_off()\n",
    "  #fig.tight_layout()\n",
    "  fig.subplots_adjust(left=0, bottom=0, right=1, top=1, wspace=None, hspace=None)\n",
    "  def updatefig(t):\n",
    "    im.set_array(data[t].reshape(figsize))\n",
    "    return im,\n",
    "  anim=animation.FuncAnimation(fig, updatefig, frames=100, interval=50, blit=True, repeat=True)\n",
    "  Writer = animation.writers['imagemagick']\n",
    "  writer = Writer(fps=1, metadata=dict(artist='Me'), bitrate=1800)\n",
    "  anim.save(filename, writer=writer)\n",
    "  return"
   ]
  },
  {
   "cell_type": "code",
   "execution_count": null,
   "metadata": {
    "collapsed": false
   },
   "outputs": [],
   "source": [
    "# save_anim(np_x1,(28,28),'x0.gif')\n",
    "# save_anim(np_y1,(N,K),'y.gif')\n",
    "# save_anim(np_x2,(28,28),'x1.gif')"
   ]
  },
  {
   "cell_type": "markdown",
   "metadata": {},
   "source": [
    "# 4. Plot Training Curves"
   ]
  },
  {
   "cell_type": "code",
   "execution_count": 81,
   "metadata": {
    "collapsed": true
   },
   "outputs": [],
   "source": [
    "dat=np.array(dat).T"
   ]
  },
  {
   "cell_type": "code",
   "execution_count": 82,
   "metadata": {
    "collapsed": false
   },
   "outputs": [
    {
     "data": {
      "text/plain": [
       "<matplotlib.text.Text at 0x12ee0a8d0>"
      ]
     },
     "execution_count": 82,
     "metadata": {},
     "output_type": "execute_result"
    },
    {
     "data": {
      "image/png": "[encoded data removed]",
      "text/plain": [
       "<matplotlib.figure.Figure at 0x12ee12710>"
      ]
     },
     "metadata": {},
     "output_type": "display_data"
    }
   ],
   "source": [
    "f,axarr=plt.subplots(1,2)\n",
    "axarr[0].plot(dat[0],dat[1])\n",
    "axarr[0].set_ylabel('Temperature')\n",
    "axarr[1].plot(dat[0],dat[2])\n",
    "axarr[1].set_ylabel('-ELBO')"
   ]
  },
  {
   "cell_type": "markdown",
   "metadata": {},
   "source": [
    "# 5. Unconditional Generation\n",
    "\n",
    "This consists of sampling from the prior $p_\\theta(y)$ and passing it through the generative model."
   ]
  },
  {
   "cell_type": "code",
   "execution_count": 83,
   "metadata": {
    "collapsed": false
   },
   "outputs": [],
   "source": [
    "M=100*N\n",
    "np_y = np.zeros((M,K))\n",
    "np_y[range(M),np.random.choice(K,M)] = 1\n",
    "np_y = np.reshape(np_y,[100,N,K])"
   ]
  },
  {
   "cell_type": "code",
   "execution_count": 84,
   "metadata": {
    "collapsed": false
   },
   "outputs": [],
   "source": [
    "x_p=p_x.mean()\n",
    "np_x= sess.run(x_p,{y:np_y})"
   ]
  },
  {
   "cell_type": "code",
   "execution_count": 85,
   "metadata": {
    "collapsed": false
   },
   "outputs": [],
   "source": [
    "np_y = np_y.reshape((10,10,N,K))\n",
    "np_y = np.concatenate(np.split(np_y,10,axis=0),axis=3)\n",
    "np_y = np.concatenate(np.split(np_y,10,axis=1),axis=2)\n",
    "y_img = np.squeeze(np_y)"
   ]
  },
  {
   "cell_type": "code",
   "execution_count": 86,
   "metadata": {
    "collapsed": false
   },
   "outputs": [],
   "source": [
    "np_x = np_x.reshape((10,10,28,28))\n",
    "# split into 10 (1,10,28,28) images, concat along columns -> 1,10,28,280\n",
    "np_x = np.concatenate(np.split(np_x,10,axis=0),axis=3)\n",
    "# split into 10 (1,1,28,280) images, concat along rows -> 1,1,280,280\n",
    "np_x = np.concatenate(np.split(np_x,10,axis=1),axis=2)\n",
    "x_img = np.squeeze(np_x)"
   ]
  },
  {
   "cell_type": "code",
   "execution_count": 87,
   "metadata": {
    "collapsed": false
   },
   "outputs": [
    {
     "data": {
      "text/plain": [
       "<matplotlib.text.Text at 0x131118750>"
      ]
     },
     "execution_count": 87,
     "metadata": {},
     "output_type": "execute_result"
    },
    {
     "data": {
      "image/png": "[encoded data removed]",
      "text/plain": [
       "<matplotlib.figure.Figure at 0x12c30c2d0>"
      ]
     },
     "metadata": {},
     "output_type": "display_data"
    }
   ],
   "source": [
    "f,axarr=plt.subplots(1,2,figsize=(15,15))\n",
    "# samples\n",
    "axarr[0].matshow(y_img,cmap=plt.cm.gray)\n",
    "axarr[0].set_title('Z Samples')\n",
    "# reconstruction\n",
    "axarr[1].imshow(x_img,cmap=plt.cm.gray,interpolation='none')\n",
    "axarr[1].set_title('Generated Images')"
   ]
  },
  {
   "cell_type": "code",
   "execution_count": 62,
   "metadata": {
    "collapsed": false
   },
   "outputs": [],
   "source": [
    "f.tight_layout()\n",
    "f.savefig('Gumbell-discrete.png')"
   ]
  }
 ],
 "metadata": {
  "anaconda-cloud": {},
  "kernelspec": {
   "display_name": "Python 2",
   "language": "python",
   "name": "python2"
  },
  "language_info": {
   "codemirror_mode": {
    "name": "ipython",
    "version": 2
   },
   "file_extension": ".py",
   "mimetype": "text/x-python",
   "name": "python",
   "nbconvert_exporter": "python",
   "pygments_lexer": "ipython2",
   "version": "2.7.12"
  }
 },
 "nbformat": 4,
 "nbformat_minor": 1
}
