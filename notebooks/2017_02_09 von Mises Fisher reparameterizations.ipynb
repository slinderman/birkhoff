{
 "cells": [
  {
   "cell_type": "code",
   "execution_count": 1,
   "metadata": {
    "collapsed": false
   },
   "outputs": [],
   "source": [
    "import numpy as np\n",
    "import numpy.random as npr\n",
    "from numpy.linalg import qr, svd, norm\n",
    "\n",
    "import matplotlib.pyplot as plt\n",
    "%matplotlib inline\n",
    "\n",
    "import sys, os\n",
    "sys.path.append(os.path.join(os.getcwd(), os.pardir))\n",
    "import vmf"
   ]
  },
  {
   "cell_type": "code",
   "execution_count": 55,
   "metadata": {
    "collapsed": false
   },
   "outputs": [],
   "source": [
    "# Construct a basis for the orthogonal complement\n",
    "# of the all-ones rows and all-ones columns\n",
    "N = 4\n",
    "Ws = []\n",
    "for n in range(N):\n",
    "    # row \n",
    "    Wnr = np.zeros((N,N))\n",
    "    Wnr[n, :] = 1\n",
    "    Ws.append(Wnr.ravel())\n",
    "    \n",
    "    # column\n",
    "    Wnc = np.zeros((N,N))\n",
    "    Wnc[:, n] = 1\n",
    "    Ws.append(Wnc.ravel())\n",
    "Ws = np.column_stack(Ws)\n",
    "\n",
    "# We want the orthogonal complement of the columns of Ws\n",
    "U, R = qr(Ws, mode='complete')"
   ]
  },
  {
   "cell_type": "code",
   "execution_count": 56,
   "metadata": {
    "collapsed": false
   },
   "outputs": [
    {
     "name": "stdout",
     "output_type": "stream",
     "text": [
      "bases of Ws\n",
      "4.0\n",
      "3.87298334621\n",
      "3.86436713232\n",
      "3.70328039909\n",
      "3.6514837167\n",
      "3.34664010614\n",
      "3.02371578407\n",
      "\n",
      "bases of \\perp(Ws)\n",
      "8.04911692853e-16\n",
      "-2.49800180541e-16\n",
      "7.21644966006e-16\n",
      "-1.4224732503e-16\n",
      "1.43982048506e-16\n",
      "-4.09394740331e-16\n",
      "-1.38777878078e-16\n",
      "1.38777878078e-17\n",
      "-3.33066907388e-16\n"
     ]
    }
   ],
   "source": [
    "# Ws.shape = (N^2 x 2N) so U.shape = (N^2 x N^2)\n",
    "# We expect the rank of U to be (N-1)^2 since that\n",
    "# is the dimension of the hypersphere.\n",
    "# \n",
    "print(\"bases of Ws\")\n",
    "for i in range(2*N-1):\n",
    "    ui = U[:,i]\n",
    "    print(abs(ui.dot(Ws)).sum())\n",
    "\n",
    "print(\"\")\n",
    "print(\"bases of \\perp(Ws)\")\n",
    "for i in range(2*N-1, N**2):\n",
    "    ui = U[:,i]\n",
    "    print(ui.dot(Ws).sum())\n",
    "\n",
    "# Get the basis of the complement\n",
    "# Shape = N^2 x (N-1)^2\n",
    "U_compl = U[:,2*N-1:]\n",
    "assert U_compl.shape == (N**2, (N-1)**2)"
   ]
  },
  {
   "cell_type": "code",
   "execution_count": 62,
   "metadata": {
    "collapsed": false
   },
   "outputs": [],
   "source": [
    "# Sweeeeeeeet... now let's project permutations onto the sphere\n",
    "def project_perm_to_sphere(P):\n",
    "    assert P.shape == (N,N)\n",
    "    \n",
    "    # Vectorize, center, project, reshape\n",
    "    P = P.ravel()\n",
    "    P = P - 1.0 / N * np.ones(N**2)\n",
    "    Psi = U_compl.T.dot(P)    \n",
    "    return Psi\n",
    "\n",
    "def project_sphere_to_perm(Psi):\n",
    "    assert Psi.shape == ((N-1)**2,)\n",
    "    P = U_compl.dot(Psi)\n",
    "    P = P + 1.0 / N * np.ones(N**2)\n",
    "    P = P.reshape((N, N))\n",
    "#     assert np.allclose(P.sum(0), 1.0)\n",
    "#     assert np.allclose(P.sum(1), 1.0)\n",
    "#     assert np.min(P) >= 0 - 1e-8\n",
    "#     assert np.max(P) <= 1 + 1e-8\n",
    "    return P\n",
    "\n",
    "def random_permutation():\n",
    "    perm = np.random.permutation(N)\n",
    "    P = np.zeros((N,N))\n",
    "    P[np.arange(N), perm] = 1\n",
    "    return P\n",
    "\n",
    "P = random_permutation()\n",
    "\n",
    "Psi = project_perm_to_sphere(P)\n",
    "# This vector should lie on a hypersphere of \n",
    "# radius \\sqrt(N-1) in R^{(N-1)^2}\n",
    "assert np.allclose(norm(Psi), np.sqrt(N-1))\n",
    "\n",
    "Precon = project_sphere_to_perm(Psi)\n",
    "assert np.allclose(P, Precon)"
   ]
  },
  {
   "cell_type": "code",
   "execution_count": 63,
   "metadata": {
    "collapsed": false
   },
   "outputs": [
    {
     "data": {
      "text/plain": [
       "<matplotlib.colorbar.Colorbar at 0x1112b9f98>"
      ]
     },
     "execution_count": 63,
     "metadata": {},
     "output_type": "execute_result"
    },
    {
     "data": {
      "image/png": "[encoded data removed]",
      "text/plain": [
       "<matplotlib.figure.Figure at 0x110b93ba8>"
      ]
     },
     "metadata": {},
     "output_type": "display_data"
    }
   ],
   "source": [
    "plt.figure()\n",
    "plt.subplot(121)\n",
    "plt.imshow(P, interpolation=\"none\", vmin=0, vmax=1)\n",
    "\n",
    "plt.subplot(122)\n",
    "plt.imshow(Precon, interpolation=\"none\", vmin=0, vmax=1)\n",
    "plt.colorbar()"
   ]
  },
  {
   "cell_type": "code",
   "execution_count": 84,
   "metadata": {
    "collapsed": false
   },
   "outputs": [
    {
     "data": {
      "text/plain": [
       "<matplotlib.colorbar.Colorbar at 0x112bab4e0>"
      ]
     },
     "execution_count": 84,
     "metadata": {},
     "output_type": "execute_result"
    },
    {
     "data": {
      "image/png": "[encoded data removed]",
      "text/plain": [
       "<matplotlib.figure.Figure at 0x1129ec6d8>"
      ]
     },
     "metadata": {},
     "output_type": "display_data"
    }
   ],
   "source": [
    "P1 = random_permutation()\n",
    "P2 = random_permutation()\n",
    "P = 0.9 * P1 + 0.1 * P2\n",
    "Psi = project_perm_to_sphere(P)\n",
    "# assert np.allclose(norm(Psi), np.sqrt(N-1))\n",
    "Precon = project_sphere_to_perm(Psi)\n",
    "assert np.allclose(P, Precon)\n",
    "\n",
    "plt.figure()\n",
    "plt.subplot(121)\n",
    "plt.imshow(P, interpolation=\"none\", vmin=0, vmax=1)\n",
    "\n",
    "plt.subplot(122)\n",
    "plt.imshow(Precon, interpolation=\"none\", vmin=0, vmax=1)\n",
    "plt.colorbar()"
   ]
  },
  {
   "cell_type": "code",
   "execution_count": 65,
   "metadata": {
    "collapsed": false
   },
   "outputs": [
    {
     "name": "stdout",
     "output_type": "stream",
     "text": [
      "Num iter:  1\n",
      "Num iter:  1\n",
      "Num iter:  1\n",
      "Num iter:  1\n",
      "[ 1.73205081  1.73205081  1.73205081  1.73205081]\n",
      "[ 1.73205081  1.73205081  1.73205081  1.73205081]\n"
     ]
    }
   ],
   "source": [
    "# Sample random points on sphere\n",
    "mu = np.random.randn((N-1)**2)\n",
    "mu /= norm(mu)\n",
    "\n",
    "num_samples = 4\n",
    "psis = vmf.sample_vMF(mu, kappa=1.0, num_samples=num_samples)\n",
    "psis *= np.sqrt(N-1)\n",
    "print(norm(psis, axis=1))\n",
    "\n",
    "psis = npr.randn(num_samples, (N-1)**2)\n",
    "psis /= norm(psis, axis=1, keepdims=True) \n",
    "psis *= np.sqrt(N-1)\n",
    "print(norm(psis, axis=1))"
   ]
  },
  {
   "cell_type": "code",
   "execution_count": 68,
   "metadata": {
    "collapsed": false
   },
   "outputs": [
    {
     "data": {
      "image/png": "[encoded data removed]",
      "text/plain": [
       "<matplotlib.figure.Figure at 0x1112d7d68>"
      ]
     },
     "metadata": {},
     "output_type": "display_data"
    }
   ],
   "source": [
    "Ps = [project_sphere_to_perm(psi) for psi in psis]\n",
    "\n",
    "plt.figure(figsize=(10,5))\n",
    "for i in range(num_samples):\n",
    "    plt.subplot(1, num_samples, i+1)\n",
    "    plt.imshow(Ps[i], interpolation=\"none\")\n",
    "    plt.colorbar()"
   ]
  },
  {
   "cell_type": "code",
   "execution_count": 82,
   "metadata": {
    "collapsed": false
   },
   "outputs": [
    {
     "name": "stdout",
     "output_type": "stream",
     "text": [
      "sqrt(N-1):       1.73205080757\n",
      "||1/n - P1||_2:  1.73205080757\n",
      "||1/n - P2||_2:  1.73205080757\n",
      "||1/n - P||_2:   1.0\n"
     ]
    }
   ],
   "source": [
    "N = 4\n",
    "perm1 = np.arange(N)\n",
    "P1 = np.zeros((N,N))\n",
    "P1[np.arange(N), perm1] = 1\n",
    "\n",
    "perm2 = np.concatenate((np.arange(1,N), [0]))\n",
    "P2 = np.zeros((N,N))\n",
    "P2[np.arange(N), perm2] = 1\n",
    "\n",
    "P = 0.5 * P1 + 0.5 * P2\n",
    "assert np.allclose(P.sum(0), 1.0)\n",
    "assert np.allclose(P.sum(1), 1.0)\n",
    "\n",
    "O = 1./N * np.ones((N,N))\n",
    "\n",
    "\n",
    "print(\"sqrt(N-1):      \", np.sqrt(N-1))\n",
    "print(\"||1/n - P1||_2: \", norm(O-P1))\n",
    "print(\"||1/n - P2||_2: \", norm(O-P2))\n",
    "print(\"||1/n - P||_2:  \", norm(O-P))"
   ]
  },
  {
   "cell_type": "code",
   "execution_count": null,
   "metadata": {
    "collapsed": true
   },
   "outputs": [],
   "source": []
  }
 ],
 "metadata": {
  "kernelspec": {
   "display_name": "Python [Root]",
   "language": "python",
   "name": "Python [Root]"
  },
  "language_info": {
   "codemirror_mode": {
    "name": "ipython",
    "version": 3
   },
   "file_extension": ".py",
   "mimetype": "text/x-python",
   "name": "python",
   "nbconvert_exporter": "python",
   "pygments_lexer": "ipython3",
   "version": "3.5.2"
  }
 },
 "nbformat": 4,
 "nbformat_minor": 0
}
