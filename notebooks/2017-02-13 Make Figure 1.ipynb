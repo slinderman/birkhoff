{
 "cells": [
  {
   "cell_type": "code",
   "execution_count": 1,
   "metadata": {
    "collapsed": false
   },
   "outputs": [],
   "source": [
    "import numpy as np\n",
    "import os, sys\n",
    "sys.path.append(os.path.expanduser(os.path.join(\"~\", \"Projects\", \"birkhoff\")))\n",
    "\n",
    "import matplotlib.pyplot as plt\n",
    "%matplotlib inline"
   ]
  },
  {
   "cell_type": "code",
   "execution_count": 183,
   "metadata": {
    "collapsed": true
   },
   "outputs": [],
   "source": [
    "# Import figure making stuff\n",
    "\n",
    "from mpl_toolkits.axes_grid1 import make_axes_locatable\n",
    "import matplotlib.gridspec as gridspec\n",
    "from matplotlib.font_manager import FontProperties\n",
    "import matplotlib.patches as patches\n",
    "import mpl_toolkits.mplot3d.art3d as art3d\n",
    "\n",
    "import seaborn as sns\n",
    "color_names = [\"windows blue\",\n",
    "               \"red\",\n",
    "               \"amber\",\n",
    "               \"medium green\",\n",
    "               \"dusty purple\",\n",
    "               \"orange\",\n",
    "               \"clay\",\n",
    "               \"pink\",\n",
    "               \"greyish\",\n",
    "               \"light cyan\",\n",
    "               \"steel blue\",\n",
    "               \"forest green\",\n",
    "               \"pastel purple\",\n",
    "               \"mint\",\n",
    "               \"salmon\",\n",
    "               \"dark brown\"]\n",
    "\n",
    "colors = sns.xkcd_palette(color_names)\n",
    "sns.set_style(\"white\")\n",
    "sns.set_context(\"paper\")\n",
    "\n",
    "from hips.plotting.colormaps import gradient_cmap\n",
    "from hips.plotting.layout import create_figure, create_axis_at_location, remove_plot_labels"
   ]
  },
  {
   "cell_type": "markdown",
   "metadata": {},
   "source": [
    "# Make Figure 1\n",
    "A comparison of reparameterizations and their implied densities"
   ]
  },
  {
   "cell_type": "code",
   "execution_count": 3,
   "metadata": {
    "collapsed": false
   },
   "outputs": [
    {
     "data": {
      "text/plain": [
       "<matplotlib.figure.Figure at 0x1040f4a58>"
      ]
     },
     "metadata": {},
     "output_type": "display_data"
    }
   ],
   "source": [
    "fig = plt.figure(figsize=(6.65,4.75))\n",
    "# 3 columns of width 2.2 left edges at [0, 2.2, 4.4]\n",
    "# label pads of 0.5 mean left edges at [0.5, 2.7, 4.9] with width 1.7\n",
    "# 3 rows of height 1.5. bottom edges at [3, 1.5, 0]\n",
    "# label pads of 0.5 mean bottom edges at [3.5, 2.0, 0.5] with height 1.0\n",
    "fp = FontProperties()\n",
    "fp.set_weight(\"bold\")\n"
   ]
  },
  {
   "cell_type": "code",
   "execution_count": 184,
   "metadata": {
    "collapsed": false
   },
   "outputs": [
    {
     "data": {
      "image/png": "[encoded data removed]",
      "text/plain": [
       "<matplotlib.figure.Figure at 0x11a1c64e0>"
      ]
     },
     "metadata": {},
     "output_type": "display_data"
    }
   ],
   "source": [
    "import birkhoff.simplex as simplex\n",
    "\n",
    "K = 3\n",
    "N = 100\n",
    "rad = 2\n",
    "ths = np.linspace(0, 2*np.pi, N, endpoint=False)\n",
    "psis = np.column_stack((rad * np.cos(ths), \n",
    "                        rad * np.sin(ths), \n",
    "                        np.zeros_like(ths)))\n",
    "pis = np.exp(psis) / np.exp(psis).sum(axis=1, keepdims=True)\n",
    "xys = simplex.proj_to_2D(pis)\n",
    "inds_to_plot = np.arange(0, N, step=N//10)\n",
    "\n",
    "# Plot the points in R^K\n",
    "fig = create_figure(figsize=(2.5, 2.5))\n",
    "ax = create_axis_at_location(fig, 0.1, 0.1, 2.3, 2.3, projection=\"3d\", transparent=True)\n",
    "ax.plot(psis[:,0], psis[:,1], psis[:,2], ':k')\n",
    "\n",
    "lim = 2.0\n",
    "ax.plot([-lim, lim],  [0, 0],       [0, 0],      '-k')\n",
    "ax.plot( [0, 0],      [-lim, lim],  [0, 0],      '-k')\n",
    "ax.plot( [0, 0],      [0, 0],       [-lim, lim], '-k')\n",
    "\n",
    "for i, ind in enumerate(inds_to_plot):\n",
    "    ax.plot(psis[ind, :1], psis[ind, 1:2], psis[ind, 2:3], \n",
    "            'o', markersize=8, color=colors[i])\n",
    "\n",
    "\n",
    "ax.set_xlim(-lim, lim)\n",
    "ax.set_ylim(-lim, lim)\n",
    "ax.set_zlim(-lim, lim)\n",
    "ax.set_xticklabels([])\n",
    "ax.set_yticklabels([])\n",
    "ax.set_zticklabels([])\n",
    "ax.text(lim+1.5, 0, 0, '$\\\\psi_1$', fontsize=14)\n",
    "ax.text(0, lim+1.0, 0, '$\\\\psi_2$', fontsize=14)\n",
    "ax.text(0, 0, lim+0.5, '$\\\\psi_3$', fontsize=14)\n",
    "ax.view_init(30, 45)\n",
    "ax.axis('off')\n",
    "fig.savefig('softmax_reals.pdf')\n",
    "fig.savefig('softmax_reals.png')"
   ]
  },
  {
   "cell_type": "code",
   "execution_count": 185,
   "metadata": {
    "collapsed": false
   },
   "outputs": [
    {
     "data": {
      "image/png": "[encoded data removed]",
      "text/plain": [
       "<matplotlib.figure.Figure at 0x118c66710>"
      ]
     },
     "metadata": {},
     "output_type": "display_data"
    }
   ],
   "source": [
    "# Plot the points in the simplex\n",
    "fig = create_figure(figsize=(2.5, 2.0), transparent=True)\n",
    "ax = create_axis_at_location(fig, 0.3, 0.1, 1.9, 1.9, transparent=True)\n",
    "simplex.plot_simplex(ax)\n",
    "\n",
    "ax.plot(xys[:,0], xys[:,1], ':k')\n",
    "for i, ind in enumerate(inds_to_plot):\n",
    "    ax.plot(xys[ind, :1], xys[ind, 1:2], \n",
    "            'o', markersize=8, color=colors[i])\n",
    "    \n",
    "fig.savefig('softmax_simplex.pdf')"
   ]
  },
  {
   "cell_type": "code",
   "execution_count": 186,
   "metadata": {
    "collapsed": false
   },
   "outputs": [
    {
     "data": {
      "image/png": "[encoded data removed]",
      "text/plain": [
       "<matplotlib.figure.Figure at 0x1190ea240>"
      ]
     },
     "metadata": {},
     "output_type": "display_data"
    }
   ],
   "source": [
    "import birkhoff.simplex as simplex\n",
    "from birkhoff.primitives import psi_to_pi\n",
    "\n",
    "K = 3\n",
    "N = 100\n",
    "center = (0.5, 0.5)\n",
    "rad = 0.45\n",
    "ths = np.linspace(0, 2*np.pi, N, endpoint=False)\n",
    "psis = np.column_stack((center[0] + rad * np.cos(ths), \n",
    "                        center[1] + rad * np.sin(ths)))\n",
    "pis = np.array([psi_to_pi(psi) for psi in psis])\n",
    "xys = simplex.proj_to_2D(pis)\n",
    "inds_to_plot = np.arange(0, N, step=N//10)\n",
    "\n",
    "# Plot the points in R^K\n",
    "fig = create_figure(figsize=(2.5, 2.5), transparent=True)\n",
    "ax = create_axis_at_location(fig, 0.5, 0.5, 1.7, 1.7, transparent=True)\n",
    "\n",
    "square = patches.Polygon([[0, 0], [0, 1], [1, 1], [1, 0]],\n",
    "                         closed=True, facecolor='w', edgecolor='none', linewidth=2)\n",
    "ax.add_patch(square)\n",
    "\n",
    "ax.plot(psis[:,0], psis[:,1], ':k')\n",
    "for i, ind in enumerate(inds_to_plot):\n",
    "    ax.plot(psis[ind, 0], psis[ind, 1],\n",
    "            'o', markersize=8, color=colors[i])\n",
    "\n",
    "ax.set_xlabel('$\\\\psi_1$', fontsize=14)\n",
    "ax.set_ylabel('$\\\\psi_2$', fontsize=14)\n",
    "ax.set_xticks([0, 1])\n",
    "ax.set_yticks([0, 1])\n",
    "fig.savefig(\"sb_square.pdf\")"
   ]
  },
  {
   "cell_type": "code",
   "execution_count": 187,
   "metadata": {
    "collapsed": false
   },
   "outputs": [
    {
     "data": {
      "image/png": "[encoded data removed]",
      "text/plain": [
       "<matplotlib.figure.Figure at 0x11948fa20>"
      ]
     },
     "metadata": {},
     "output_type": "display_data"
    }
   ],
   "source": [
    "# Plot the points in the simplex\n",
    "fig = create_figure(figsize=(2.5, 2.0), transparent=True)\n",
    "ax = create_axis_at_location(fig, 0.3, 0.1, 1.9, 1.9, transparent=True)\n",
    "\n",
    "simplex.plot_simplex(ax)\n",
    "\n",
    "ax.plot(xys[:,0], xys[:,1], ':k')\n",
    "for i, ind in enumerate(inds_to_plot):\n",
    "    ax.plot(xys[ind, :1], xys[ind, 1:2], \n",
    "            'o', markersize=8, color=colors[i])\n",
    "    \n",
    "fig.savefig(\"sb_simplex.pdf\")"
   ]
  },
  {
   "cell_type": "code",
   "execution_count": 6,
   "metadata": {
    "collapsed": false
   },
   "outputs": [
    {
     "data": {
      "text/plain": [
       "(-1.0, 1.5, -0.60000000000000009, 1.2)"
      ]
     },
     "execution_count": 6,
     "metadata": {},
     "output_type": "execute_result"
    },
    {
     "data": {
      "image/png": "[encoded data removed]",
      "text/plain": [
       "<matplotlib.figure.Figure at 0x11800fb38>"
      ]
     },
     "metadata": {},
     "output_type": "display_data"
    }
   ],
   "source": [
    "from birkhoff.utils import get_birkhoff_basis, project_perm_to_sphere\n",
    "K = 3\n",
    "np.random.seed(0)\n",
    "Q = get_birkhoff_basis(K)\n",
    "\n",
    "\n",
    "# For K = 3 there are only 6 permutations. Plot each of their \n",
    "# projections. \n",
    "import itertools as it\n",
    "Ps = []\n",
    "for perm in it.permutations([0, 1, 2]):\n",
    "    P = np.zeros((K, K))\n",
    "    P[np.arange(K), np.array(perm)] = 1\n",
    "    Ps.append(P)\n",
    "Ps = np.array(Ps)\n",
    "Psis = np.array([project_perm_to_sphere(P, Q) for P in Ps])\n",
    "    \n",
    "fig = plt.figure(figsize=(2.5, 2.5))\n",
    "# ax = fig.add_subplot(111, projection=\"3d\")\n",
    "ax = create_axis_at_location(fig, 0, 0, 2.5, 2.5, projection=\"3d\")\n",
    "\n",
    "# Axis-parallel projection\n",
    "axes = (0, 1, 3)\n",
    "Psis = Psis[:, axes]\n",
    "# for i, perm in enumerate(it.permutations([0, 1, 2])):\n",
    "#     ax.plot(Psis[i, :1], Psis[i, 1:2], Psis[i, 2:3], 'ks')\n",
    "    \n",
    "# Get the convex hull of the points\n",
    "from scipy.spatial import ConvexHull\n",
    "hull = ConvexHull(Psis)\n",
    "for simplex in hull.simplices:\n",
    "    for i in range(3):\n",
    "        st = Psis[simplex[i]]\n",
    "        en = Psis[simplex[(i+1) % 3]]\n",
    "        ax.plot([st[0], en[0]], [st[1], en[1]], [st[2], en[2]], '-k', lw=1)\n",
    "        \n",
    "        \n",
    "ax.view_init(70, -45)\n",
    "ax.axis('off')\n",
    "\n",
    "\n",
    "#     ax.text(Psis[i, 0], Psis[i, 1], Psis[i, 3], str(perm))\n",
    "    \n",
    "# for i, perm1 in enumerate(it.permutations([0, 1, 2])):\n",
    "#     for j, perm2 in enumerate(it.permutations([0, 1, 2])):\n",
    "#         if np.sum(np.array(perm1) == np.array(perm2)) == 1:\n",
    "#             plt.plot([Psis[i, 0], Psis[j, 0]],\n",
    "#                      [Psis[i, 1], Psis[j, 1]],  '-k')\n",
    "    "
   ]
  },
  {
   "cell_type": "code",
   "execution_count": 266,
   "metadata": {
    "collapsed": true
   },
   "outputs": [],
   "source": [
    "# Get a projection matrix\n",
    "def get_birkhoff_projection(K):\n",
    "    # Find a projection of permutations onto 2\n",
    "    N = np.prod(np.arange(1,K+1))\n",
    "    D_in = K**2\n",
    "    D_out = 2\n",
    "    ths = np.linspace(0, 2*np.pi, N, endpoint=False)\n",
    "    Y = np.column_stack((np.cos(ths), np.sin(ths)))\n",
    "    X = Ps.reshape((N, D_in))\n",
    "    Q = np.linalg.solve(X.T.dot(X) + 0.1 * np.eye(D_in), X.T.dot(Y))\n",
    "    Q, _ = np.linalg.qr(Q)\n",
    "    return Q"
   ]
  },
  {
   "cell_type": "code",
   "execution_count": 299,
   "metadata": {
    "collapsed": false
   },
   "outputs": [
    {
     "data": {
      "image/png": "[encoded data removed]",
      "text/plain": [
       "<matplotlib.figure.Figure at 0x11d232080>"
      ]
     },
     "metadata": {},
     "output_type": "display_data"
    }
   ],
   "source": [
    "from birkhoff.utils import get_birkhoff_basis, project_perm_to_sphere, sinkhorn\n",
    "from birkhoff.primitives import psi_to_birkhoff, birkhoff_to_psi\n",
    "\n",
    "K = 3\n",
    "np.random.seed(1)\n",
    "# Q = get_birkhoff_basis(K)[:,:2]\n",
    "Q = get_birkhoff_projection(K)\n",
    "\n",
    "\n",
    "# For K = 3 there are only 6 permutations. Plot each of their \n",
    "# projections. \n",
    "import itertools as it\n",
    "Ps = []\n",
    "for perm in it.permutations(np.arange(K)):\n",
    "    P = np.zeros((K, K))\n",
    "    P[np.arange(K), np.array(perm)] = 1\n",
    "    Ps.append(P)\n",
    "Ps = np.array(Ps)\n",
    "Psis = np.array([project_perm_to_sphere(P, Q) for P in Ps])\n",
    "    \n",
    "fig = create_figure(figsize=(2.5, 2.5), transparent=True)\n",
    "ax = create_axis_at_location(fig, 0.1, 0.1, 2.3, 2.3, transparent=True)\n",
    "\n",
    "# Plot the permutation matrices\n",
    "# for i, perm in enumerate(it.permutations(np.arange(K))):\n",
    "#     ax.plot(Psis[i, 0], Psis[i,1], 'ks')\n",
    "    \n",
    "# Get the convex hull of the points\n",
    "from scipy.spatial import ConvexHull\n",
    "hull = ConvexHull(Psis[:, :2])\n",
    "for simplex in hull.simplices:\n",
    "    for i in range(2):\n",
    "        st = Psis[simplex[i]]\n",
    "        en = Psis[simplex[(i+1) % 2]]\n",
    "        ax.plot([st[0], en[0]], [st[1], en[1]], '-k', lw=1)\n",
    "        \n",
    "#  Sample a bunch of points in the Birkhoff polytope\n",
    "N = 100\n",
    "ths = np.linspace(0, 2*np.pi, N)\n",
    "rad = 0.45\n",
    "Us = np.zeros((N, K-1, K-1))\n",
    "# fsin = lambda x: np.sqrt(abs(np.sin(x))) * np.sign(np.sin(x))\n",
    "# fcos = lambda x: np.sqrt(abs(np.cos(x))) * np.sign(np.cos(x))\n",
    "fsin = lambda x: np.sin(x)\n",
    "fcos = lambda x: np.cos(x)\n",
    "Us[:,0,0] = 0.5 + rad * fsin(ths)\n",
    "Us[:,0,1] = 0.5 + rad * fcos(ths)\n",
    "Us[:,1,0] = 0.5 + rad * fcos(ths)\n",
    "# Us[:,1,0] = 0.5 \n",
    "# Us[:,1,1] = 0.5 + rad * fsin(ths)\n",
    "Us[:,1,1] = 0.5 \n",
    "assert np.all(Us >= 0)\n",
    "\n",
    "xys = np.zeros((N, 2))\n",
    "for n in range(N):\n",
    "    B = psi_to_birkhoff(Us[n])\n",
    "    xys[n] = project_perm_to_sphere(B, Q)\n",
    "\n",
    "# Plot little stencils of the permutation matrices\n",
    "xlim = ax.get_xlim()\n",
    "ylim = ax.get_ylim()\n",
    "subw = 0.1\n",
    "nx = lambda x: 2.3 * (x-xlim[0]) / (xlim[1] - xlim[0])\n",
    "ny = lambda y: 2.3 * (y-ylim[0]) / (ylim[1] - ylim[0])\n",
    "for i, perm in enumerate(it.permutations(np.arange(K))):\n",
    "    x, y = Psis[i, 0], Psis[i, 1]\n",
    "    subax = create_axis_at_location(fig, 0.1 + nx(x)-subw, \n",
    "                                    0.1 + ny(y)-subw, \n",
    "                                    2*subw, 2*subw, \n",
    "                                    ticks=False)\n",
    "    subax.patch.set_color('none')\n",
    "    Pi = np.zeros((K, K))\n",
    "    Pi[np.arange(K), perm] = 1\n",
    "    subax.imshow(Pi, interpolation=\"nearest\")\n",
    "\n",
    "\n",
    "inds_to_plot = np.arange(0, N, step=N//10)\n",
    "ax.plot(xys[:,0], xys[:,1], ':k')\n",
    "for i, ind in enumerate(inds_to_plot):\n",
    "    ax.plot(xys[ind, :1], xys[ind, 1:2], \n",
    "            'o', markersize=8, color=colors[i])\n",
    "    \n",
    "ax.axis('off')\n",
    "fig.savefig('sb_birkhoff.pdf')\n",
    "fig.savefig('sb_birkhoff.png')\n"
   ]
  },
  {
   "cell_type": "code",
   "execution_count": 300,
   "metadata": {
    "collapsed": false
   },
   "outputs": [
    {
     "data": {
      "image/png": "[encoded data removed]",
      "text/plain": [
       "<matplotlib.figure.Figure at 0x1194c7908>"
      ]
     },
     "metadata": {},
     "output_type": "display_data"
    }
   ],
   "source": [
    "# Now plot the trajectory in the K-1 x K-1 unit hypercube\n",
    "from birkhoff.utils import get_birkhoff_basis, project_perm_to_sphere\n",
    "K = 3\n",
    "np.random.seed(0)\n",
    "    \n",
    "fig = create_figure(figsize=(2.5, 2.5), transparent=True)\n",
    "ax = create_axis_at_location(fig, 0.1, 0.1, 2.3, 2.3, projection='3d', transparent=True)\n",
    "\n",
    "# Axis-parallel projection\n",
    "axes = (0, 1, 2)\n",
    "fUs = np.reshape(Us, (-1, (K-1)**2))\n",
    "ax.axis('off')\n",
    "\n",
    "ax.plot(fUs[:,axes[0]], fUs[:, axes[1]], fUs[:, axes[2]], ':k')\n",
    "for i, ind in enumerate(inds_to_plot):\n",
    "    ax.plot(fUs[ind, axes[0]:axes[0]+1],\n",
    "            fUs[ind, axes[1]:axes[1]+1],\n",
    "            fUs[ind, axes[2]:axes[2]+1],\n",
    "            'o', markersize=8, color=colors[i])\n",
    "    \n",
    "ax.text(0.5, -0.3, 0.,  \"$\\\\psi_{11}$\", fontsize=14)\n",
    "ax.text(1.1, 0.5, 0.,   \"$\\\\psi_{12}$\", fontsize=14)\n",
    "ax.text(-0.2,-0.2, 0.5, \"$\\\\psi_{21}$\", fontsize=14)\n",
    "    \n",
    "r = [0, 1]\n",
    "for s, e in it.combinations(np.array(list(it.product(r,r,r))), 2):\n",
    "    if np.sum(np.abs(s-e)) == r[1]-r[0]:\n",
    "        ax.plot(*zip(s,e), '-k')\n",
    "    \n",
    "fig.savefig('sb_cube.pdf')\n",
    "fig.savefig('sb_cube.png')"
   ]
  },
  {
   "cell_type": "code",
   "execution_count": 338,
   "metadata": {
    "collapsed": false
   },
   "outputs": [
    {
     "data": {
      "image/png": "[encoded data removed]",
      "text/plain": [
       "<matplotlib.figure.Figure at 0x11e9890b8>"
      ]
     },
     "metadata": {},
     "output_type": "display_data"
    }
   ],
   "source": [
    "# What do random samples look like?\n",
    "# What does the inverse of the \"uniform\" doubly stochastic matrix look like?\n",
    "from birkhoff.primitives import birkhoff_to_psi\n",
    "N = 15\n",
    "\n",
    "def plot_pi_and_psi(Pi, Psi, fig, ax1, ax2):\n",
    "    im1 = ax1.imshow(Psi, interpolation=\"nearest\", vmin=0, vmax=1.0)\n",
    "    ax1.set_xticks([])\n",
    "    ax1.set_yticks([])\n",
    "    ax1.set_title(\"$\\Psi$\")\n",
    "\n",
    "    divider = make_axes_locatable(ax1)\n",
    "    cb1 = divider.new_horizontal(size=\"5%\", pad=0.05)\n",
    "    fig.add_axes(cb1)\n",
    "    plt.colorbar(im1, cax=cb1, ticks=[0, 1])\n",
    "\n",
    "    im2 = ax2.imshow(Pi, interpolation=\"nearest\", vmin=0, vmax=1)\n",
    "    ax2.set_xticks([])\n",
    "    ax2.set_yticks([])\n",
    "    ax2.set_title(\"$\\Pi$\")\n",
    "\n",
    "    divider = make_axes_locatable(ax2)\n",
    "    cb2 = divider.new_horizontal(size=\"5%\", pad=0.05)\n",
    "    fig.add_axes(cb2)\n",
    "    plt.colorbar(im2, cax=cb2, ticks=[0, 1])\n",
    "\n",
    "fig = plt.figure(figsize=(3.25, 4))\n",
    "\n",
    "# First the center of the polytope\n",
    "ax1 = create_axis_at_location(\n",
    "    fig, 0.2, 2.6 + (1./N) * 1.1, \n",
    "    float(N-1)/N * 1.1, float(N-1)/N * 1.1)\n",
    "\n",
    "ax2 = create_axis_at_location(\n",
    "    fig, 1.7, 2.6, 1.1, 1.1)\n",
    "\n",
    "Pi = 1./N *np.ones((N,N))\n",
    "Psi = birkhoff_to_psi(Pi)\n",
    "plot_pi_and_psi(Pi, Psi, fig, ax1, ax2)\n",
    "\n",
    "def mixture_of_permutations(M, w):\n",
    "    assert len(w) == M\n",
    "    w = np.array(w) / np.sum(w)\n",
    "    Pi = 0.1 * 1./N * np.ones((N,N))\n",
    "    for m in range(M):\n",
    "        Pim = np.zeros((N,N))\n",
    "        Pim[np.arange(N), np.random.permutation(N)] = 1.0\n",
    "        Pi += 0.9 * w[m] * Pim\n",
    "    return Pi\n",
    "\n",
    "# Now a random permutation\n",
    "ax3 = create_axis_at_location(\n",
    "    fig, 0.2, 1.3 + (1./N) * 1.1, \n",
    "    float(N-1)/N * 1.1, float(N-1)/N * 1.1)\n",
    "\n",
    "ax4 = create_axis_at_location(\n",
    "    fig, 1.7, 1.3, 1.1, 1.1)\n",
    "\n",
    "Pi = mixture_of_permutations(1, [1.0])\n",
    "Psi = birkhoff_to_psi(Pi)\n",
    "plot_pi_and_psi(Pi, Psi, fig, ax3, ax4)\n",
    "\n",
    "# Now a mixture of two permutations\n",
    "ax5 = create_axis_at_location(\n",
    "    fig, 0.2, 0. + (1./N) * 1.1, \n",
    "    float(N-1)/N * 1.1, float(N-1)/N * 1.1)\n",
    "\n",
    "ax6 = create_axis_at_location(\n",
    "    fig, 1.7, 0., 1.1, 1.1)\n",
    "\n",
    "Pi = mixture_of_permutations(3, np.ones(3) / 3)\n",
    "Psi = birkhoff_to_psi(Pi)\n",
    "plot_pi_and_psi(Pi, Psi, fig, ax5, ax6)\n",
    "\n",
    "plt.savefig(\"pi_psi.pdf\")\n",
    "plt.savefig(\"pi_psi.png\", dpi=300)"
   ]
  },
  {
   "cell_type": "code",
   "execution_count": 387,
   "metadata": {
    "collapsed": false
   },
   "outputs": [
    {
     "data": {
      "image/png": "[encoded data removed]",
      "text/plain": [
       "<matplotlib.figure.Figure at 0x11e96fa20>"
      ]
     },
     "metadata": {},
     "output_type": "display_data"
    },
    {
     "data": {
      "image/png": "[encoded data removed]",
      "text/plain": [
       "<matplotlib.figure.Figure at 0x11e96f978>"
      ]
     },
     "metadata": {},
     "output_type": "display_data"
    },
    {
     "data": {
      "image/png": "[encoded data removed]",
      "text/plain": [
       "<matplotlib.figure.Figure at 0x11d242860>"
      ]
     },
     "metadata": {},
     "output_type": "display_data"
    },
    {
     "data": {
      "image/png": "[encoded data removed]",
      "text/plain": [
       "<matplotlib.figure.Figure at 0x11a2bc7b8>"
      ]
     },
     "metadata": {},
     "output_type": "display_data"
    }
   ],
   "source": [
    "from birkhoff.utils import project_perm_to_sphere\n",
    "from birkhoff.primitives import psi_to_birkhoff, birkhoff_to_psi, logit, logistic\n",
    "np.random.seed(1)\n",
    "K = 3\n",
    "\n",
    "Q = get_birkhoff_projection(K)\n",
    "\n",
    "\n",
    "# Create a distribution over the Birkhoff polytope\n",
    "Pi1 = 1./K * np.ones((K, K))\n",
    "Pi2 = np.zeros((K, K))\n",
    "Pi2[np.arange(K), [0, 2, 1]] = 1\n",
    "Pi3 = np.zeros((K, K))\n",
    "Pi3[np.arange(K), [2, 1, 0]] = 1\n",
    "Pi4 = np.zeros((K, K))\n",
    "Pi4[np.arange(K), [1, 2, 0]] = 1\n",
    "Pi = 0.1 * Pi1 + 0.3 * Pi2 + 0.3 * Pi3 + 0.3 * Pi4\n",
    "Psi = birkhoff_to_psi(Pi)\n",
    "mu = logit(Psi)\n",
    "sigma = np.ones((K-1, K-1))\n",
    "\n",
    "\n",
    "#  Sample a bunch of points in the Birkhoff polytope\n",
    "N = 500\n",
    "zs = mu + sigma * np.random.randn(N, K-1, K-1)\n",
    "\n",
    "# Plot the samples at different temperatures\n",
    "def plot_birkhoff_samples(zs, tau):\n",
    "    Us = logistic(zs / tau)\n",
    "    \n",
    "    xys = np.zeros((N, 2))\n",
    "    for n in range(N):\n",
    "        B = psi_to_birkhoff(Us[n])\n",
    "        xys[n] = project_perm_to_sphere(B, Q)\n",
    "\n",
    "    # For K = 3 there are only 6 permutations. Plot each of their \n",
    "    # projections. \n",
    "    import itertools as it\n",
    "    Ps = []\n",
    "    for perm in it.permutations(np.arange(K)):\n",
    "        P = np.zeros((K, K))\n",
    "        P[np.arange(K), np.array(perm)] = 1\n",
    "        Ps.append(P)\n",
    "    Ps = np.array(Ps)\n",
    "    Psis = np.array([project_perm_to_sphere(P, Q) for P in Ps])\n",
    "\n",
    "    fig = create_figure(figsize=(1.6, 1.6), transparent=True) \n",
    "    xlim = -1.5, 1.0\n",
    "    ylim = -1.0, 1.5\n",
    "\n",
    "    # First plot the convex hull\n",
    "    ax = create_axis_at_location(fig, 0.05, 0.05, 1.5, 1.5, transparent=True)\n",
    "    ax.axis('off')\n",
    "    from scipy.spatial import ConvexHull\n",
    "    hull = ConvexHull(Psis[:, :2])\n",
    "    for simplex in hull.simplices:\n",
    "        for i in range(2):\n",
    "            st = Psis[simplex[i]]\n",
    "            en = Psis[simplex[(i+1) % 2]]\n",
    "            ax.plot([st[0], en[0]], [st[1], en[1]], '-k', lw=1)\n",
    "    ax.set_xlim(xlim)\n",
    "    ax.set_ylim(ylim)\n",
    "    \n",
    "    # Then plot little stencils of the permutation matrices\n",
    "    subw = 0.05\n",
    "    nx = lambda x: 1.5 * (x-xlim[0]) / (xlim[1] - xlim[0])\n",
    "    ny = lambda y: 1.5 * (y-ylim[0]) / (ylim[1] - ylim[0])\n",
    "    for i, perm in enumerate(it.permutations(np.arange(K))):\n",
    "        x, y = Psis[i, 0], Psis[i, 1]\n",
    "        subax = create_axis_at_location(fig, 0.05 + nx(x)-subw, \n",
    "                                        0.05 + ny(y)-subw, \n",
    "                                        2*subw, 2*subw, \n",
    "                                        ticks=False)\n",
    "        subax.patch.set_color('none')\n",
    "        Pi = np.zeros((K, K))\n",
    "        Pi[np.arange(K), perm] = 1\n",
    "        subax.imshow(Pi, interpolation=\"nearest\")\n",
    "\n",
    "    \n",
    "    # Finally, plot the samples\n",
    "    ax3 = create_axis_at_location(fig, 0.05, 0.05, 1.5, 1.5)\n",
    "    ax3.plot(xys[:,0], xys[:,1], 'o', markersize=3, alpha=0.5, color=colors[0])\n",
    "    ax3.set_xlim(xlim)\n",
    "    ax3.set_ylim(ylim)\n",
    "    ax3.axis('off')\n",
    "\n",
    "    ax3.text(-1.5, 1.0, \"$\\\\tau={0:.1f}$\".format(tau), fontsize=10)\n",
    "    \n",
    "    fig.savefig('birkhoff_samples_{0:.2f}.pdf'.format(tau))\n",
    "\n",
    "plot_birkhoff_samples(zs, 2.5)\n",
    "plot_birkhoff_samples(zs, 1.0)\n",
    "plot_birkhoff_samples(zs, 0.5)\n",
    "plot_birkhoff_samples(zs, 0.1)\n"
   ]
  },
  {
   "cell_type": "code",
   "execution_count": 351,
   "metadata": {
    "collapsed": false
   },
   "outputs": [
    {
     "data": {
      "text/plain": [
       "(-1.0, 1.5)"
      ]
     },
     "execution_count": 351,
     "metadata": {},
     "output_type": "execute_result"
    }
   ],
   "source": [
    "ylim"
   ]
  }
 ],
 "metadata": {
  "anaconda-cloud": {},
  "kernelspec": {
   "display_name": "Python [Root]",
   "language": "python",
   "name": "Python [Root]"
  },
  "language_info": {
   "codemirror_mode": {
    "name": "ipython",
    "version": 3
   },
   "file_extension": ".py",
   "mimetype": "text/x-python",
   "name": "python",
   "nbconvert_exporter": "python",
   "pygments_lexer": "ipython3",
   "version": "3.5.2"
  }
 },
 "nbformat": 4,
 "nbformat_minor": 0
}
